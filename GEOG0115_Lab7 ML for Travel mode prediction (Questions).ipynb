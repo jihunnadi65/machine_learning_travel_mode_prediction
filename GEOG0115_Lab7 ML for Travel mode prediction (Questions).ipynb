{
 "cells": [
  {
   "cell_type": "markdown",
   "metadata": {
    "slideshow": {
     "slide_type": "slide"
    }
   },
   "source": [
    "Mining Social and Geographic Datasets\n",
    "-----------------------------------\n",
    "\n",
    "GEOG0115 Computer Lab Week 7 \n",
    "-------------------------------\n",
    "\n",
    "Note: Notebook might contain scripts and instructions adapted from GEOG0115, GEOG0051. \n",
    "Contributors: Stephen Law, Michal Iliev, Mateo Neira, Nikki Tanu, Thomas Keel, Gong Jie, Jason Tang and Demin Hu."
   ]
  },
  {
   "cell_type": "markdown",
   "metadata": {
    "slideshow": {
     "slide_type": "slide"
    }
   },
   "source": [
    "Overview of Content in this Jupyter Notebook\n",
    "===============\n",
    "> ### Lab Notebook 7.1: Machine Learning for travel mode prediction (tabular data)\n",
    "> ### Lab Exercise 7.1: XGBoost (Gradient Boosting)"
   ]
  },
  {
   "cell_type": "markdown",
   "metadata": {},
   "source": [
    "Lab Notebook 7.1: Machine Learning for travel mode prediction (tabular data)\n",
    "-------------------------------"
   ]
  },
  {
   "cell_type": "markdown",
   "metadata": {},
   "source": [
    "In this week's notebook, we will be reviewing some of the concepts and algorithms we learnt in previous three classes such as <b>logistic regression</b>, <b>decision tree</b>, <b>Random Forest</b> and <b>Gradient Boosting</b> for the travel mode classification problem. Think of this as a **review notebook** to put some of what you learn into practice."
   ]
  },
  {
   "cell_type": "markdown",
   "metadata": {},
   "source": [
    "## Machine Learning Application: Travel mode classification\n",
    "\n",
    "An important task in urban analytics and transport planning is to predict the travel mode choice of individuals. The aim of the task is to predict which travel mode an individual takes namely `[car,bike,walk]`. This type of research can be conducted using  `trajectory` data but also travel survey data that is based on various socio-economic, climatic, individual and neighbourhood attributes such as `['distance', 'density', 'age', 'male', 'ethnicity','education', 'income', 'cars', 'license', 'bicycles', 'weekend','diversity', 'green', 'temp', 'precip', 'wind']`. \n",
    "\n",
    "The primary data source for this study is the Dutch national travel survey (NTS) conducted from 2010 to 2012 based on individual travel diaries. The survey participants were asked to record every trip in six days randomly selected over a year to capture seasonal effects. Below is the description of the input variables. Please read **(Hagenauera et al. 2017)** as part of this lab seminar. \n",
    "\n",
    "**Trip**\t<br>\n",
    "`distance`\tTotal trip distance in km <br>\n",
    "`weekend`\tTrip is done at the weekend <br>\n",
    "`mode`\tMain travel mode (walk, bike, pt, car). pt refers to public transport. <br>\n",
    "**Individual**\t<br>\n",
    "`age`\tAge of participant in years <br>\n",
    "`education`\tEducation of participant (lower, middle, higher)<br>\n",
    "`ethnicity`\tEthnicity of participant (native, western, other)<br>\n",
    "`license`\tParticipant owns a driver’s license (yes, no)<br>\n",
    "`male`\tMale participant (yes, no)<br>\n",
    "**Household**\t<br>\n",
    "`bicycles`\tNumber of bicycles per household<br>\n",
    "`cars`\tNumber of cars per household<br>\n",
    "`income`\tNet annual household income in 1,000€ (<20,≥ 20–40,≥ 40)<br>\n",
    "**Build and natural environment**\t<br>\n",
    "`density`\tAddress density, aggregated over post codes, in 1,000addresses per km2<br>\n",
    "`diversity`\tShannon diversity index of land use classes<br>\n",
    "`green`\tProportion of green space per post code area in %<br>\n",
    "**Weather**\t<br>\n",
    "`precip`\tDaily precipitation sum in mm<br>\n",
    "`temp`\tDaily maximum temperature in °C<br>\n",
    "`wind`\tDaily average wind speed in m/s<br>\n",
    "\n",
    "\n",
    "\n",
    "[1] Hagenauera,J., Helbich,M. (2017) Comparative study of machine learning classifiers for modelling travel mode choice. Expert Systems with Applications (78)"
   ]
  },
  {
   "cell_type": "markdown",
   "metadata": {},
   "source": [
    "#### Import Scikit-learn\n",
    "You may notice below that we import only certain portions of the ```sklearn``` package, and this is so as to conserve memory on your operating system through importing just what we will use. Remember also that what we are introduced to in these notebooks are but a drop in the ocean of possibilities of how you could implement Machine Learning principles with Python, and so, as your interests guide you, feel free to explore content and functions beyond what is set out here and in addition to some the links for further reading placed in these notebooks.\n",
    "\n",
    "For more infomation, look at [the official website](https://scikit-learn.org/)."
   ]
  },
  {
   "cell_type": "code",
   "execution_count": 36,
   "metadata": {},
   "outputs": [],
   "source": [
    "import pandas as pd\n",
    "import numpy as np\n",
    "import matplotlib.pyplot as plt\n",
    "from sklearn.model_selection import train_test_split\n",
    "from sklearn import datasets\n",
    "from sklearn.linear_model import LogisticRegression\n",
    "from sklearn.metrics import accuracy_score"
   ]
  },
  {
   "cell_type": "markdown",
   "metadata": {},
   "source": [
    "## 7.1.1 Supervised Learning - Logistic Regression\n",
    "\n",
    "### Logistic Regression (Baseline Model)\n",
    "\n",
    "Let's start with running a logistic regression as the baseline classifier. As a reminder, a <b>Logistic Regression model</b> is a variant of a generalised linear models where a <b>sigmoid</b>  function $s(x)=\\frac{1}{1+e^{-f(x)}}$ is typically used in translating a standard linear regression into a binary classification problem $y_i\\in{0,1}$ which can be extended into a multi-class classification problem $y_i\\in{1,...,k}$. While linear regression models predict an output that is a continuous variable, logistic regression models are instead used for classification with a discrete categorical outcome (E.g. whether the flower is an Iris or rather an individual takes a bus to school). These models predict the <b> probability</b> of a certain event or categorisation happening: based on the variables defined by the user, each observation will be given a probability of between 0 and 1 on the output (event/class) in happening. Thereafter, the observations can be classified into 2 or more classes based on user-defined thresholds. \n",
    "\n",
    "Note: The logistic regression function in ```sklearn``` implements regularized logistic regression to give a predicted output of 2 or more classes. Read more about it [here](https://scikit-learn.org/stable/modules/linear_model.html#logistic-regression) and [here](https://mlu-explain.github.io/logistic-regression/)."
   ]
  },
  {
   "cell_type": "code",
   "execution_count": 37,
   "metadata": {},
   "outputs": [],
   "source": [
    "# let's read in the national travel survey data\n",
    "dft=pd.read_csv('C://Users//jihun//Desktop//SGDS//GEOG0115 - Introduction to Social Data Science//Week 7//practical//Travel_Mode_Classification//nts_data.csv')"
   ]
  },
  {
   "cell_type": "code",
   "execution_count": 38,
   "metadata": {},
   "outputs": [
    {
     "data": {
      "text/html": [
       "<div>\n",
       "<style scoped>\n",
       "    .dataframe tbody tr th:only-of-type {\n",
       "        vertical-align: middle;\n",
       "    }\n",
       "\n",
       "    .dataframe tbody tr th {\n",
       "        vertical-align: top;\n",
       "    }\n",
       "\n",
       "    .dataframe thead th {\n",
       "        text-align: right;\n",
       "    }\n",
       "</style>\n",
       "<table border=\"1\" class=\"dataframe\">\n",
       "  <thead>\n",
       "    <tr style=\"text-align: right;\">\n",
       "      <th></th>\n",
       "      <th>mode_main</th>\n",
       "      <th>distance</th>\n",
       "      <th>density</th>\n",
       "      <th>age</th>\n",
       "      <th>male</th>\n",
       "      <th>ethnicity</th>\n",
       "      <th>education</th>\n",
       "      <th>income</th>\n",
       "      <th>cars</th>\n",
       "      <th>license</th>\n",
       "      <th>bicycles</th>\n",
       "      <th>weekend</th>\n",
       "      <th>diversity</th>\n",
       "      <th>green</th>\n",
       "      <th>temp</th>\n",
       "      <th>precip</th>\n",
       "      <th>wind</th>\n",
       "    </tr>\n",
       "  </thead>\n",
       "  <tbody>\n",
       "    <tr>\n",
       "      <th>0</th>\n",
       "      <td>walk</td>\n",
       "      <td>1.0</td>\n",
       "      <td>1.26259</td>\n",
       "      <td>84</td>\n",
       "      <td>no</td>\n",
       "      <td>native</td>\n",
       "      <td>lower</td>\n",
       "      <td>less20</td>\n",
       "      <td>0</td>\n",
       "      <td>yes</td>\n",
       "      <td>1</td>\n",
       "      <td>yes</td>\n",
       "      <td>1.24604</td>\n",
       "      <td>26.881233</td>\n",
       "      <td>0.1</td>\n",
       "      <td>0.10</td>\n",
       "      <td>3.0</td>\n",
       "    </tr>\n",
       "    <tr>\n",
       "      <th>1</th>\n",
       "      <td>walk</td>\n",
       "      <td>10.0</td>\n",
       "      <td>1.26259</td>\n",
       "      <td>84</td>\n",
       "      <td>no</td>\n",
       "      <td>native</td>\n",
       "      <td>lower</td>\n",
       "      <td>less20</td>\n",
       "      <td>0</td>\n",
       "      <td>yes</td>\n",
       "      <td>1</td>\n",
       "      <td>yes</td>\n",
       "      <td>1.24604</td>\n",
       "      <td>26.881233</td>\n",
       "      <td>0.1</td>\n",
       "      <td>0.10</td>\n",
       "      <td>3.0</td>\n",
       "    </tr>\n",
       "    <tr>\n",
       "      <th>2</th>\n",
       "      <td>car</td>\n",
       "      <td>3.0</td>\n",
       "      <td>1.76264</td>\n",
       "      <td>27</td>\n",
       "      <td>yes</td>\n",
       "      <td>western</td>\n",
       "      <td>middle</td>\n",
       "      <td>20to40</td>\n",
       "      <td>1</td>\n",
       "      <td>yes</td>\n",
       "      <td>2</td>\n",
       "      <td>yes</td>\n",
       "      <td>1.53959</td>\n",
       "      <td>36.045955</td>\n",
       "      <td>-3.4</td>\n",
       "      <td>0.05</td>\n",
       "      <td>1.8</td>\n",
       "    </tr>\n",
       "    <tr>\n",
       "      <th>3</th>\n",
       "      <td>car</td>\n",
       "      <td>3.0</td>\n",
       "      <td>1.76264</td>\n",
       "      <td>27</td>\n",
       "      <td>yes</td>\n",
       "      <td>western</td>\n",
       "      <td>middle</td>\n",
       "      <td>20to40</td>\n",
       "      <td>1</td>\n",
       "      <td>yes</td>\n",
       "      <td>2</td>\n",
       "      <td>yes</td>\n",
       "      <td>1.53959</td>\n",
       "      <td>36.045955</td>\n",
       "      <td>-3.4</td>\n",
       "      <td>0.05</td>\n",
       "      <td>1.8</td>\n",
       "    </tr>\n",
       "    <tr>\n",
       "      <th>4</th>\n",
       "      <td>car</td>\n",
       "      <td>61.5</td>\n",
       "      <td>1.76264</td>\n",
       "      <td>27</td>\n",
       "      <td>yes</td>\n",
       "      <td>western</td>\n",
       "      <td>middle</td>\n",
       "      <td>20to40</td>\n",
       "      <td>1</td>\n",
       "      <td>yes</td>\n",
       "      <td>2</td>\n",
       "      <td>yes</td>\n",
       "      <td>1.53959</td>\n",
       "      <td>36.045955</td>\n",
       "      <td>-3.4</td>\n",
       "      <td>0.05</td>\n",
       "      <td>1.8</td>\n",
       "    </tr>\n",
       "    <tr>\n",
       "      <th>5</th>\n",
       "      <td>car</td>\n",
       "      <td>61.5</td>\n",
       "      <td>0.88025</td>\n",
       "      <td>27</td>\n",
       "      <td>yes</td>\n",
       "      <td>western</td>\n",
       "      <td>middle</td>\n",
       "      <td>20to40</td>\n",
       "      <td>1</td>\n",
       "      <td>yes</td>\n",
       "      <td>2</td>\n",
       "      <td>yes</td>\n",
       "      <td>1.53959</td>\n",
       "      <td>36.045955</td>\n",
       "      <td>-3.4</td>\n",
       "      <td>0.05</td>\n",
       "      <td>1.8</td>\n",
       "    </tr>\n",
       "    <tr>\n",
       "      <th>6</th>\n",
       "      <td>walk</td>\n",
       "      <td>0.5</td>\n",
       "      <td>1.83997</td>\n",
       "      <td>47</td>\n",
       "      <td>yes</td>\n",
       "      <td>native</td>\n",
       "      <td>lower</td>\n",
       "      <td>less20</td>\n",
       "      <td>0</td>\n",
       "      <td>yes</td>\n",
       "      <td>3</td>\n",
       "      <td>yes</td>\n",
       "      <td>1.72325</td>\n",
       "      <td>36.698977</td>\n",
       "      <td>-2.2</td>\n",
       "      <td>0.05</td>\n",
       "      <td>2.5</td>\n",
       "    </tr>\n",
       "    <tr>\n",
       "      <th>7</th>\n",
       "      <td>walk</td>\n",
       "      <td>0.5</td>\n",
       "      <td>2.15367</td>\n",
       "      <td>47</td>\n",
       "      <td>yes</td>\n",
       "      <td>native</td>\n",
       "      <td>lower</td>\n",
       "      <td>less20</td>\n",
       "      <td>0</td>\n",
       "      <td>yes</td>\n",
       "      <td>3</td>\n",
       "      <td>yes</td>\n",
       "      <td>1.72325</td>\n",
       "      <td>36.698977</td>\n",
       "      <td>-2.2</td>\n",
       "      <td>0.05</td>\n",
       "      <td>2.5</td>\n",
       "    </tr>\n",
       "    <tr>\n",
       "      <th>8</th>\n",
       "      <td>walk</td>\n",
       "      <td>0.4</td>\n",
       "      <td>1.18075</td>\n",
       "      <td>31</td>\n",
       "      <td>yes</td>\n",
       "      <td>native</td>\n",
       "      <td>middle</td>\n",
       "      <td>20to40</td>\n",
       "      <td>1</td>\n",
       "      <td>yes</td>\n",
       "      <td>2</td>\n",
       "      <td>yes</td>\n",
       "      <td>1.33844</td>\n",
       "      <td>82.758365</td>\n",
       "      <td>-1.0</td>\n",
       "      <td>0.00</td>\n",
       "      <td>2.5</td>\n",
       "    </tr>\n",
       "    <tr>\n",
       "      <th>9</th>\n",
       "      <td>car</td>\n",
       "      <td>5.0</td>\n",
       "      <td>2.17375</td>\n",
       "      <td>65</td>\n",
       "      <td>no</td>\n",
       "      <td>native</td>\n",
       "      <td>lower</td>\n",
       "      <td>less20</td>\n",
       "      <td>1</td>\n",
       "      <td>yes</td>\n",
       "      <td>2</td>\n",
       "      <td>yes</td>\n",
       "      <td>1.36730</td>\n",
       "      <td>33.290612</td>\n",
       "      <td>0.2</td>\n",
       "      <td>2.20</td>\n",
       "      <td>1.8</td>\n",
       "    </tr>\n",
       "    <tr>\n",
       "      <th>10</th>\n",
       "      <td>car</td>\n",
       "      <td>5.0</td>\n",
       "      <td>1.25468</td>\n",
       "      <td>65</td>\n",
       "      <td>no</td>\n",
       "      <td>native</td>\n",
       "      <td>lower</td>\n",
       "      <td>less20</td>\n",
       "      <td>1</td>\n",
       "      <td>yes</td>\n",
       "      <td>2</td>\n",
       "      <td>yes</td>\n",
       "      <td>1.36730</td>\n",
       "      <td>33.290612</td>\n",
       "      <td>0.2</td>\n",
       "      <td>2.20</td>\n",
       "      <td>1.8</td>\n",
       "    </tr>\n",
       "    <tr>\n",
       "      <th>11</th>\n",
       "      <td>car</td>\n",
       "      <td>5.0</td>\n",
       "      <td>3.09575</td>\n",
       "      <td>65</td>\n",
       "      <td>no</td>\n",
       "      <td>native</td>\n",
       "      <td>lower</td>\n",
       "      <td>less20</td>\n",
       "      <td>1</td>\n",
       "      <td>yes</td>\n",
       "      <td>2</td>\n",
       "      <td>yes</td>\n",
       "      <td>1.36730</td>\n",
       "      <td>33.290612</td>\n",
       "      <td>0.2</td>\n",
       "      <td>2.20</td>\n",
       "      <td>1.8</td>\n",
       "    </tr>\n",
       "    <tr>\n",
       "      <th>12</th>\n",
       "      <td>car</td>\n",
       "      <td>20.0</td>\n",
       "      <td>0.70105</td>\n",
       "      <td>47</td>\n",
       "      <td>yes</td>\n",
       "      <td>native</td>\n",
       "      <td>higher</td>\n",
       "      <td>more40</td>\n",
       "      <td>2</td>\n",
       "      <td>yes</td>\n",
       "      <td>7</td>\n",
       "      <td>yes</td>\n",
       "      <td>1.45511</td>\n",
       "      <td>85.867899</td>\n",
       "      <td>-0.8</td>\n",
       "      <td>0.05</td>\n",
       "      <td>2.7</td>\n",
       "    </tr>\n",
       "    <tr>\n",
       "      <th>13</th>\n",
       "      <td>car</td>\n",
       "      <td>20.0</td>\n",
       "      <td>1.50813</td>\n",
       "      <td>47</td>\n",
       "      <td>yes</td>\n",
       "      <td>native</td>\n",
       "      <td>higher</td>\n",
       "      <td>more40</td>\n",
       "      <td>2</td>\n",
       "      <td>yes</td>\n",
       "      <td>7</td>\n",
       "      <td>yes</td>\n",
       "      <td>1.45511</td>\n",
       "      <td>85.867899</td>\n",
       "      <td>-0.8</td>\n",
       "      <td>0.05</td>\n",
       "      <td>2.7</td>\n",
       "    </tr>\n",
       "    <tr>\n",
       "      <th>14</th>\n",
       "      <td>walk</td>\n",
       "      <td>1.0</td>\n",
       "      <td>2.61713</td>\n",
       "      <td>24</td>\n",
       "      <td>no</td>\n",
       "      <td>native</td>\n",
       "      <td>middle</td>\n",
       "      <td>20to40</td>\n",
       "      <td>1</td>\n",
       "      <td>yes</td>\n",
       "      <td>3</td>\n",
       "      <td>yes</td>\n",
       "      <td>1.02295</td>\n",
       "      <td>22.163588</td>\n",
       "      <td>-1.0</td>\n",
       "      <td>0.00</td>\n",
       "      <td>2.5</td>\n",
       "    </tr>\n",
       "    <tr>\n",
       "      <th>15</th>\n",
       "      <td>walk</td>\n",
       "      <td>0.5</td>\n",
       "      <td>2.61713</td>\n",
       "      <td>24</td>\n",
       "      <td>no</td>\n",
       "      <td>native</td>\n",
       "      <td>middle</td>\n",
       "      <td>20to40</td>\n",
       "      <td>1</td>\n",
       "      <td>yes</td>\n",
       "      <td>3</td>\n",
       "      <td>yes</td>\n",
       "      <td>1.02295</td>\n",
       "      <td>22.163588</td>\n",
       "      <td>-1.0</td>\n",
       "      <td>0.00</td>\n",
       "      <td>2.5</td>\n",
       "    </tr>\n",
       "    <tr>\n",
       "      <th>16</th>\n",
       "      <td>walk</td>\n",
       "      <td>0.5</td>\n",
       "      <td>5.26579</td>\n",
       "      <td>24</td>\n",
       "      <td>no</td>\n",
       "      <td>native</td>\n",
       "      <td>middle</td>\n",
       "      <td>20to40</td>\n",
       "      <td>1</td>\n",
       "      <td>yes</td>\n",
       "      <td>3</td>\n",
       "      <td>yes</td>\n",
       "      <td>1.02295</td>\n",
       "      <td>22.163588</td>\n",
       "      <td>-1.0</td>\n",
       "      <td>0.00</td>\n",
       "      <td>2.5</td>\n",
       "    </tr>\n",
       "    <tr>\n",
       "      <th>17</th>\n",
       "      <td>walk</td>\n",
       "      <td>0.5</td>\n",
       "      <td>5.26579</td>\n",
       "      <td>24</td>\n",
       "      <td>no</td>\n",
       "      <td>native</td>\n",
       "      <td>middle</td>\n",
       "      <td>20to40</td>\n",
       "      <td>1</td>\n",
       "      <td>yes</td>\n",
       "      <td>3</td>\n",
       "      <td>yes</td>\n",
       "      <td>1.02295</td>\n",
       "      <td>22.163588</td>\n",
       "      <td>-1.0</td>\n",
       "      <td>0.00</td>\n",
       "      <td>2.5</td>\n",
       "    </tr>\n",
       "    <tr>\n",
       "      <th>18</th>\n",
       "      <td>pt</td>\n",
       "      <td>25.2</td>\n",
       "      <td>2.79098</td>\n",
       "      <td>29</td>\n",
       "      <td>no</td>\n",
       "      <td>western</td>\n",
       "      <td>higher</td>\n",
       "      <td>more40</td>\n",
       "      <td>0</td>\n",
       "      <td>no</td>\n",
       "      <td>3</td>\n",
       "      <td>yes</td>\n",
       "      <td>1.41009</td>\n",
       "      <td>38.285714</td>\n",
       "      <td>-0.5</td>\n",
       "      <td>0.00</td>\n",
       "      <td>2.8</td>\n",
       "    </tr>\n",
       "    <tr>\n",
       "      <th>19</th>\n",
       "      <td>pt</td>\n",
       "      <td>25.2</td>\n",
       "      <td>1.47212</td>\n",
       "      <td>29</td>\n",
       "      <td>no</td>\n",
       "      <td>western</td>\n",
       "      <td>higher</td>\n",
       "      <td>more40</td>\n",
       "      <td>0</td>\n",
       "      <td>no</td>\n",
       "      <td>3</td>\n",
       "      <td>yes</td>\n",
       "      <td>1.41009</td>\n",
       "      <td>38.285714</td>\n",
       "      <td>-0.5</td>\n",
       "      <td>0.00</td>\n",
       "      <td>2.8</td>\n",
       "    </tr>\n",
       "  </tbody>\n",
       "</table>\n",
       "</div>"
      ],
      "text/plain": [
       "   mode_main  distance  density  age male ethnicity education  income  cars  \\\n",
       "0       walk       1.0  1.26259   84   no    native     lower  less20     0   \n",
       "1       walk      10.0  1.26259   84   no    native     lower  less20     0   \n",
       "2        car       3.0  1.76264   27  yes   western    middle  20to40     1   \n",
       "3        car       3.0  1.76264   27  yes   western    middle  20to40     1   \n",
       "4        car      61.5  1.76264   27  yes   western    middle  20to40     1   \n",
       "5        car      61.5  0.88025   27  yes   western    middle  20to40     1   \n",
       "6       walk       0.5  1.83997   47  yes    native     lower  less20     0   \n",
       "7       walk       0.5  2.15367   47  yes    native     lower  less20     0   \n",
       "8       walk       0.4  1.18075   31  yes    native    middle  20to40     1   \n",
       "9        car       5.0  2.17375   65   no    native     lower  less20     1   \n",
       "10       car       5.0  1.25468   65   no    native     lower  less20     1   \n",
       "11       car       5.0  3.09575   65   no    native     lower  less20     1   \n",
       "12       car      20.0  0.70105   47  yes    native    higher  more40     2   \n",
       "13       car      20.0  1.50813   47  yes    native    higher  more40     2   \n",
       "14      walk       1.0  2.61713   24   no    native    middle  20to40     1   \n",
       "15      walk       0.5  2.61713   24   no    native    middle  20to40     1   \n",
       "16      walk       0.5  5.26579   24   no    native    middle  20to40     1   \n",
       "17      walk       0.5  5.26579   24   no    native    middle  20to40     1   \n",
       "18        pt      25.2  2.79098   29   no   western    higher  more40     0   \n",
       "19        pt      25.2  1.47212   29   no   western    higher  more40     0   \n",
       "\n",
       "   license  bicycles weekend  diversity      green  temp  precip  wind  \n",
       "0      yes         1     yes    1.24604  26.881233   0.1    0.10   3.0  \n",
       "1      yes         1     yes    1.24604  26.881233   0.1    0.10   3.0  \n",
       "2      yes         2     yes    1.53959  36.045955  -3.4    0.05   1.8  \n",
       "3      yes         2     yes    1.53959  36.045955  -3.4    0.05   1.8  \n",
       "4      yes         2     yes    1.53959  36.045955  -3.4    0.05   1.8  \n",
       "5      yes         2     yes    1.53959  36.045955  -3.4    0.05   1.8  \n",
       "6      yes         3     yes    1.72325  36.698977  -2.2    0.05   2.5  \n",
       "7      yes         3     yes    1.72325  36.698977  -2.2    0.05   2.5  \n",
       "8      yes         2     yes    1.33844  82.758365  -1.0    0.00   2.5  \n",
       "9      yes         2     yes    1.36730  33.290612   0.2    2.20   1.8  \n",
       "10     yes         2     yes    1.36730  33.290612   0.2    2.20   1.8  \n",
       "11     yes         2     yes    1.36730  33.290612   0.2    2.20   1.8  \n",
       "12     yes         7     yes    1.45511  85.867899  -0.8    0.05   2.7  \n",
       "13     yes         7     yes    1.45511  85.867899  -0.8    0.05   2.7  \n",
       "14     yes         3     yes    1.02295  22.163588  -1.0    0.00   2.5  \n",
       "15     yes         3     yes    1.02295  22.163588  -1.0    0.00   2.5  \n",
       "16     yes         3     yes    1.02295  22.163588  -1.0    0.00   2.5  \n",
       "17     yes         3     yes    1.02295  22.163588  -1.0    0.00   2.5  \n",
       "18      no         3     yes    1.41009  38.285714  -0.5    0.00   2.8  \n",
       "19      no         3     yes    1.41009  38.285714  -0.5    0.00   2.8  "
      ]
     },
     "execution_count": 38,
     "metadata": {},
     "output_type": "execute_result"
    }
   ],
   "source": [
    "dft.head(20)"
   ]
  },
  {
   "cell_type": "code",
   "execution_count": 39,
   "metadata": {},
   "outputs": [],
   "source": [
    "Xcols=['distance', 'density', 'age', 'male', 'ethnicity',\n",
    "       'education', 'income', 'cars', 'license', 'bicycles', 'weekend',\n",
    "       'diversity', 'green', 'temp', 'precip', 'wind']\n",
    "ycols=['mode_main']\n"
   ]
  },
  {
   "cell_type": "code",
   "execution_count": 40,
   "metadata": {},
   "outputs": [],
   "source": [
    "#define the x-variables (input) and y-variable (outcome of classification)\n",
    "X = dft[Xcols]\n",
    "y = dft[ycols]"
   ]
  },
  {
   "cell_type": "code",
   "execution_count": 41,
   "metadata": {},
   "outputs": [
    {
     "data": {
      "text/html": [
       "<div>\n",
       "<style scoped>\n",
       "    .dataframe tbody tr th:only-of-type {\n",
       "        vertical-align: middle;\n",
       "    }\n",
       "\n",
       "    .dataframe tbody tr th {\n",
       "        vertical-align: top;\n",
       "    }\n",
       "\n",
       "    .dataframe thead th {\n",
       "        text-align: right;\n",
       "    }\n",
       "</style>\n",
       "<table border=\"1\" class=\"dataframe\">\n",
       "  <thead>\n",
       "    <tr style=\"text-align: right;\">\n",
       "      <th></th>\n",
       "      <th>distance</th>\n",
       "      <th>density</th>\n",
       "      <th>age</th>\n",
       "      <th>male</th>\n",
       "      <th>ethnicity</th>\n",
       "      <th>education</th>\n",
       "      <th>income</th>\n",
       "      <th>cars</th>\n",
       "      <th>license</th>\n",
       "      <th>bicycles</th>\n",
       "      <th>weekend</th>\n",
       "      <th>diversity</th>\n",
       "      <th>green</th>\n",
       "      <th>temp</th>\n",
       "      <th>precip</th>\n",
       "      <th>wind</th>\n",
       "    </tr>\n",
       "  </thead>\n",
       "  <tbody>\n",
       "    <tr>\n",
       "      <th>0</th>\n",
       "      <td>1.0</td>\n",
       "      <td>1.26259</td>\n",
       "      <td>84</td>\n",
       "      <td>no</td>\n",
       "      <td>native</td>\n",
       "      <td>lower</td>\n",
       "      <td>less20</td>\n",
       "      <td>0</td>\n",
       "      <td>yes</td>\n",
       "      <td>1</td>\n",
       "      <td>yes</td>\n",
       "      <td>1.24604</td>\n",
       "      <td>26.881233</td>\n",
       "      <td>0.1</td>\n",
       "      <td>0.10</td>\n",
       "      <td>3.0</td>\n",
       "    </tr>\n",
       "    <tr>\n",
       "      <th>1</th>\n",
       "      <td>10.0</td>\n",
       "      <td>1.26259</td>\n",
       "      <td>84</td>\n",
       "      <td>no</td>\n",
       "      <td>native</td>\n",
       "      <td>lower</td>\n",
       "      <td>less20</td>\n",
       "      <td>0</td>\n",
       "      <td>yes</td>\n",
       "      <td>1</td>\n",
       "      <td>yes</td>\n",
       "      <td>1.24604</td>\n",
       "      <td>26.881233</td>\n",
       "      <td>0.1</td>\n",
       "      <td>0.10</td>\n",
       "      <td>3.0</td>\n",
       "    </tr>\n",
       "    <tr>\n",
       "      <th>2</th>\n",
       "      <td>3.0</td>\n",
       "      <td>1.76264</td>\n",
       "      <td>27</td>\n",
       "      <td>yes</td>\n",
       "      <td>western</td>\n",
       "      <td>middle</td>\n",
       "      <td>20to40</td>\n",
       "      <td>1</td>\n",
       "      <td>yes</td>\n",
       "      <td>2</td>\n",
       "      <td>yes</td>\n",
       "      <td>1.53959</td>\n",
       "      <td>36.045955</td>\n",
       "      <td>-3.4</td>\n",
       "      <td>0.05</td>\n",
       "      <td>1.8</td>\n",
       "    </tr>\n",
       "    <tr>\n",
       "      <th>3</th>\n",
       "      <td>3.0</td>\n",
       "      <td>1.76264</td>\n",
       "      <td>27</td>\n",
       "      <td>yes</td>\n",
       "      <td>western</td>\n",
       "      <td>middle</td>\n",
       "      <td>20to40</td>\n",
       "      <td>1</td>\n",
       "      <td>yes</td>\n",
       "      <td>2</td>\n",
       "      <td>yes</td>\n",
       "      <td>1.53959</td>\n",
       "      <td>36.045955</td>\n",
       "      <td>-3.4</td>\n",
       "      <td>0.05</td>\n",
       "      <td>1.8</td>\n",
       "    </tr>\n",
       "    <tr>\n",
       "      <th>4</th>\n",
       "      <td>61.5</td>\n",
       "      <td>1.76264</td>\n",
       "      <td>27</td>\n",
       "      <td>yes</td>\n",
       "      <td>western</td>\n",
       "      <td>middle</td>\n",
       "      <td>20to40</td>\n",
       "      <td>1</td>\n",
       "      <td>yes</td>\n",
       "      <td>2</td>\n",
       "      <td>yes</td>\n",
       "      <td>1.53959</td>\n",
       "      <td>36.045955</td>\n",
       "      <td>-3.4</td>\n",
       "      <td>0.05</td>\n",
       "      <td>1.8</td>\n",
       "    </tr>\n",
       "  </tbody>\n",
       "</table>\n",
       "</div>"
      ],
      "text/plain": [
       "   distance  density  age male ethnicity education  income  cars license  \\\n",
       "0       1.0  1.26259   84   no    native     lower  less20     0     yes   \n",
       "1      10.0  1.26259   84   no    native     lower  less20     0     yes   \n",
       "2       3.0  1.76264   27  yes   western    middle  20to40     1     yes   \n",
       "3       3.0  1.76264   27  yes   western    middle  20to40     1     yes   \n",
       "4      61.5  1.76264   27  yes   western    middle  20to40     1     yes   \n",
       "\n",
       "   bicycles weekend  diversity      green  temp  precip  wind  \n",
       "0         1     yes    1.24604  26.881233   0.1    0.10   3.0  \n",
       "1         1     yes    1.24604  26.881233   0.1    0.10   3.0  \n",
       "2         2     yes    1.53959  36.045955  -3.4    0.05   1.8  \n",
       "3         2     yes    1.53959  36.045955  -3.4    0.05   1.8  \n",
       "4         2     yes    1.53959  36.045955  -3.4    0.05   1.8  "
      ]
     },
     "execution_count": 41,
     "metadata": {},
     "output_type": "execute_result"
    }
   ],
   "source": [
    "X.head()"
   ]
  },
  {
   "cell_type": "code",
   "execution_count": 42,
   "metadata": {},
   "outputs": [
    {
     "data": {
      "text/html": [
       "<div>\n",
       "<style scoped>\n",
       "    .dataframe tbody tr th:only-of-type {\n",
       "        vertical-align: middle;\n",
       "    }\n",
       "\n",
       "    .dataframe tbody tr th {\n",
       "        vertical-align: top;\n",
       "    }\n",
       "\n",
       "    .dataframe thead th {\n",
       "        text-align: right;\n",
       "    }\n",
       "</style>\n",
       "<table border=\"1\" class=\"dataframe\">\n",
       "  <thead>\n",
       "    <tr style=\"text-align: right;\">\n",
       "      <th></th>\n",
       "      <th>mode_main</th>\n",
       "    </tr>\n",
       "  </thead>\n",
       "  <tbody>\n",
       "    <tr>\n",
       "      <th>0</th>\n",
       "      <td>walk</td>\n",
       "    </tr>\n",
       "    <tr>\n",
       "      <th>1</th>\n",
       "      <td>walk</td>\n",
       "    </tr>\n",
       "    <tr>\n",
       "      <th>2</th>\n",
       "      <td>car</td>\n",
       "    </tr>\n",
       "    <tr>\n",
       "      <th>3</th>\n",
       "      <td>car</td>\n",
       "    </tr>\n",
       "    <tr>\n",
       "      <th>4</th>\n",
       "      <td>car</td>\n",
       "    </tr>\n",
       "  </tbody>\n",
       "</table>\n",
       "</div>"
      ],
      "text/plain": [
       "  mode_main\n",
       "0      walk\n",
       "1      walk\n",
       "2       car\n",
       "3       car\n",
       "4       car"
      ]
     },
     "execution_count": 42,
     "metadata": {},
     "output_type": "execute_result"
    }
   ],
   "source": [
    "y.head()"
   ]
  },
  {
   "cell_type": "markdown",
   "metadata": {},
   "source": [
    "let's first look at the dependent variable (categorical) of interests using a barplot."
   ]
  },
  {
   "cell_type": "code",
   "execution_count": 43,
   "metadata": {},
   "outputs": [
    {
     "data": {
      "text/plain": [
       "<Axes: ylabel='mode_main'>"
      ]
     },
     "execution_count": 43,
     "metadata": {},
     "output_type": "execute_result"
    },
    {
     "data": {
      "image/png": "[encoded data removed]",
      "text/plain": [
       "<Figure size 640x480 with 1 Axes>"
      ]
     },
     "metadata": {},
     "output_type": "display_data"
    }
   ],
   "source": [
    "pd.DataFrame(y.value_counts()).plot(kind='barh',color='black')"
   ]
  },
  {
   "cell_type": "markdown",
   "metadata": {},
   "source": [
    "#### 🤨 TASK\n",
    "what do you notice? are the different classes balance? and which is the most popular mode of transport and which is the less?"
   ]
  },
  {
   "cell_type": "code",
   "execution_count": 44,
   "metadata": {},
   "outputs": [],
   "source": [
    "# cars are the most popular mode of transport and public transport the least"
   ]
  },
  {
   "cell_type": "markdown",
   "metadata": {},
   "source": [
    "let's now take a look at the independent variables which has a total of 230,607 samples, there seems to be both numeric and categorical variables in the dataframe."
   ]
  },
  {
   "cell_type": "code",
   "execution_count": 45,
   "metadata": {},
   "outputs": [
    {
     "name": "stdout",
     "output_type": "stream",
     "text": [
      "<class 'pandas.core.frame.DataFrame'>\n",
      "RangeIndex: 230608 entries, 0 to 230607\n",
      "Data columns (total 16 columns):\n",
      " #   Column     Non-Null Count   Dtype  \n",
      "---  ------     --------------   -----  \n",
      " 0   distance   230608 non-null  float64\n",
      " 1   density    230608 non-null  float64\n",
      " 2   age        230608 non-null  int64  \n",
      " 3   male       230608 non-null  object \n",
      " 4   ethnicity  230608 non-null  object \n",
      " 5   education  230608 non-null  object \n",
      " 6   income     230608 non-null  object \n",
      " 7   cars       230608 non-null  int64  \n",
      " 8   license    230608 non-null  object \n",
      " 9   bicycles   230608 non-null  int64  \n",
      " 10  weekend    230608 non-null  object \n",
      " 11  diversity  230608 non-null  float64\n",
      " 12  green      230608 non-null  float64\n",
      " 13  temp       230608 non-null  float64\n",
      " 14  precip     230608 non-null  float64\n",
      " 15  wind       230608 non-null  float64\n",
      "dtypes: float64(7), int64(3), object(6)\n",
      "memory usage: 28.2+ MB\n"
     ]
    }
   ],
   "source": [
    "X.info()"
   ]
  },
  {
   "cell_type": "markdown",
   "metadata": {},
   "source": [
    "## Describing the dataset\n",
    " \n",
    "Before building a classifier, it is important to **understand** and **describe** the data contained within the imported data frames. For example, how is the data distributed? Are there any missing values?\n",
    "\n",
    "For numeric variables\n",
    "* descriptive statistics\n",
    "* histograms\n",
    "\n",
    "For categorical variables\n",
    "* bar-plot\n",
    "* counts\n",
    "\n",
    "Beyond that, depending on your application, it is also common to look at how the variables correlate with each other using a correlation matrix."
   ]
  },
  {
   "cell_type": "markdown",
   "metadata": {},
   "source": [
    "let's check whether there are any missing data first."
   ]
  },
  {
   "cell_type": "code",
   "execution_count": 46,
   "metadata": {},
   "outputs": [
    {
     "name": "stdout",
     "output_type": "stream",
     "text": [
      "Count of missing values\n",
      "distance     0\n",
      "density      0\n",
      "age          0\n",
      "male         0\n",
      "ethnicity    0\n",
      "education    0\n",
      "income       0\n",
      "cars         0\n",
      "license      0\n",
      "bicycles     0\n",
      "weekend      0\n",
      "diversity    0\n",
      "green        0\n",
      "temp         0\n",
      "precip       0\n",
      "wind         0\n",
      "dtype: int64\n"
     ]
    }
   ],
   "source": [
    "missing_count = X.isna().sum()\n",
    "print(\"Count of missing values\")\n",
    "print(missing_count)"
   ]
  },
  {
   "cell_type": "markdown",
   "metadata": {},
   "source": [
    "let's then describe the data statistically. What was the mean/median `temp` and `percip` for example in the dataset? \n"
   ]
  },
  {
   "cell_type": "code",
   "execution_count": 47,
   "metadata": {},
   "outputs": [
    {
     "data": {
      "text/html": [
       "<div>\n",
       "<style scoped>\n",
       "    .dataframe tbody tr th:only-of-type {\n",
       "        vertical-align: middle;\n",
       "    }\n",
       "\n",
       "    .dataframe tbody tr th {\n",
       "        vertical-align: top;\n",
       "    }\n",
       "\n",
       "    .dataframe thead th {\n",
       "        text-align: right;\n",
       "    }\n",
       "</style>\n",
       "<table border=\"1\" class=\"dataframe\">\n",
       "  <thead>\n",
       "    <tr style=\"text-align: right;\">\n",
       "      <th></th>\n",
       "      <th>distance</th>\n",
       "      <th>density</th>\n",
       "      <th>age</th>\n",
       "      <th>cars</th>\n",
       "      <th>bicycles</th>\n",
       "      <th>diversity</th>\n",
       "      <th>green</th>\n",
       "      <th>temp</th>\n",
       "      <th>precip</th>\n",
       "      <th>wind</th>\n",
       "    </tr>\n",
       "  </thead>\n",
       "  <tbody>\n",
       "    <tr>\n",
       "      <th>count</th>\n",
       "      <td>230608.000000</td>\n",
       "      <td>230608.000000</td>\n",
       "      <td>230608.000000</td>\n",
       "      <td>230608.000000</td>\n",
       "      <td>230608.000000</td>\n",
       "      <td>230608.000000</td>\n",
       "      <td>230608.000000</td>\n",
       "      <td>230608.000000</td>\n",
       "      <td>230608.000000</td>\n",
       "      <td>230608.000000</td>\n",
       "    </tr>\n",
       "    <tr>\n",
       "      <th>mean</th>\n",
       "      <td>12.217913</td>\n",
       "      <td>1.569055</td>\n",
       "      <td>47.661356</td>\n",
       "      <td>1.382584</td>\n",
       "      <td>3.357134</td>\n",
       "      <td>1.774927</td>\n",
       "      <td>54.939470</td>\n",
       "      <td>13.316930</td>\n",
       "      <td>2.184633</td>\n",
       "      <td>4.097702</td>\n",
       "    </tr>\n",
       "    <tr>\n",
       "      <th>std</th>\n",
       "      <td>23.545686</td>\n",
       "      <td>1.593292</td>\n",
       "      <td>15.934884</td>\n",
       "      <td>0.822056</td>\n",
       "      <td>1.936614</td>\n",
       "      <td>0.493037</td>\n",
       "      <td>22.172372</td>\n",
       "      <td>7.565732</td>\n",
       "      <td>4.674801</td>\n",
       "      <td>1.914821</td>\n",
       "    </tr>\n",
       "    <tr>\n",
       "      <th>min</th>\n",
       "      <td>0.100000</td>\n",
       "      <td>0.001840</td>\n",
       "      <td>18.000000</td>\n",
       "      <td>0.000000</td>\n",
       "      <td>0.000000</td>\n",
       "      <td>0.000000</td>\n",
       "      <td>0.000000</td>\n",
       "      <td>-9.000000</td>\n",
       "      <td>0.000000</td>\n",
       "      <td>0.400000</td>\n",
       "    </tr>\n",
       "    <tr>\n",
       "      <th>25%</th>\n",
       "      <td>1.500000</td>\n",
       "      <td>0.591320</td>\n",
       "      <td>36.000000</td>\n",
       "      <td>1.000000</td>\n",
       "      <td>2.000000</td>\n",
       "      <td>1.388940</td>\n",
       "      <td>37.111200</td>\n",
       "      <td>8.000000</td>\n",
       "      <td>0.000000</td>\n",
       "      <td>2.700000</td>\n",
       "    </tr>\n",
       "    <tr>\n",
       "      <th>50%</th>\n",
       "      <td>4.000000</td>\n",
       "      <td>1.153210</td>\n",
       "      <td>47.000000</td>\n",
       "      <td>1.000000</td>\n",
       "      <td>3.000000</td>\n",
       "      <td>1.827390</td>\n",
       "      <td>54.102123</td>\n",
       "      <td>13.400000</td>\n",
       "      <td>0.100000</td>\n",
       "      <td>3.800000</td>\n",
       "    </tr>\n",
       "    <tr>\n",
       "      <th>75%</th>\n",
       "      <td>12.000000</td>\n",
       "      <td>1.952960</td>\n",
       "      <td>60.000000</td>\n",
       "      <td>2.000000</td>\n",
       "      <td>4.000000</td>\n",
       "      <td>2.172380</td>\n",
       "      <td>74.381844</td>\n",
       "      <td>19.000000</td>\n",
       "      <td>2.300000</td>\n",
       "      <td>5.100000</td>\n",
       "    </tr>\n",
       "    <tr>\n",
       "      <th>max</th>\n",
       "      <td>400.000000</td>\n",
       "      <td>11.442960</td>\n",
       "      <td>98.000000</td>\n",
       "      <td>10.000000</td>\n",
       "      <td>10.000000</td>\n",
       "      <td>2.827560</td>\n",
       "      <td>97.813002</td>\n",
       "      <td>35.900000</td>\n",
       "      <td>142.300000</td>\n",
       "      <td>16.300000</td>\n",
       "    </tr>\n",
       "  </tbody>\n",
       "</table>\n",
       "</div>"
      ],
      "text/plain": [
       "            distance        density            age           cars  \\\n",
       "count  230608.000000  230608.000000  230608.000000  230608.000000   \n",
       "mean       12.217913       1.569055      47.661356       1.382584   \n",
       "std        23.545686       1.593292      15.934884       0.822056   \n",
       "min         0.100000       0.001840      18.000000       0.000000   \n",
       "25%         1.500000       0.591320      36.000000       1.000000   \n",
       "50%         4.000000       1.153210      47.000000       1.000000   \n",
       "75%        12.000000       1.952960      60.000000       2.000000   \n",
       "max       400.000000      11.442960      98.000000      10.000000   \n",
       "\n",
       "            bicycles      diversity          green           temp  \\\n",
       "count  230608.000000  230608.000000  230608.000000  230608.000000   \n",
       "mean        3.357134       1.774927      54.939470      13.316930   \n",
       "std         1.936614       0.493037      22.172372       7.565732   \n",
       "min         0.000000       0.000000       0.000000      -9.000000   \n",
       "25%         2.000000       1.388940      37.111200       8.000000   \n",
       "50%         3.000000       1.827390      54.102123      13.400000   \n",
       "75%         4.000000       2.172380      74.381844      19.000000   \n",
       "max        10.000000       2.827560      97.813002      35.900000   \n",
       "\n",
       "              precip           wind  \n",
       "count  230608.000000  230608.000000  \n",
       "mean        2.184633       4.097702  \n",
       "std         4.674801       1.914821  \n",
       "min         0.000000       0.400000  \n",
       "25%         0.000000       2.700000  \n",
       "50%         0.100000       3.800000  \n",
       "75%         2.300000       5.100000  \n",
       "max       142.300000      16.300000  "
      ]
     },
     "execution_count": 47,
     "metadata": {},
     "output_type": "execute_result"
    }
   ],
   "source": [
    "X.describe()"
   ]
  },
  {
   "cell_type": "markdown",
   "metadata": {},
   "source": [
    "For **numeric variables**, you can visualise the distribution of the data using histograms."
   ]
  },
  {
   "cell_type": "code",
   "execution_count": 48,
   "metadata": {},
   "outputs": [
    {
     "data": {
      "image/png": "[encoded data removed]",
      "text/plain": [
       "<Figure size 1000x1000 with 12 Axes>"
      ]
     },
     "metadata": {},
     "output_type": "display_data"
    }
   ],
   "source": [
    "numeric_data=X.select_dtypes(include=[np.number])\n",
    "numeric_data.hist(figsize=(10,10),color='black',grid=False)\n",
    "plt.axis(False)\n",
    "plt.show()"
   ]
  },
  {
   "cell_type": "markdown",
   "metadata": {},
   "source": [
    "you might notice most of the variables distributions are uni-modal, some are symmetrical while a couple are highly skewed. Do the distribution makes sense? Based on our previous learning, `distance` (distance travel) is highly skewed meaning the majority of the trips are shorter in distance. \n"
   ]
  },
  {
   "cell_type": "markdown",
   "metadata": {},
   "source": [
    "let's then describe the categorical variable using barplots which counts the frequency for each class."
   ]
  },
  {
   "cell_type": "code",
   "execution_count": 49,
   "metadata": {},
   "outputs": [
    {
     "data": {
      "text/plain": [
       "Index(['male', 'ethnicity', 'education', 'income', 'license', 'weekend'], dtype='object')"
      ]
     },
     "execution_count": 49,
     "metadata": {},
     "output_type": "execute_result"
    }
   ],
   "source": [
    "categorical_data = X.select_dtypes(include=[object])\n",
    "categorical_data.columns"
   ]
  },
  {
   "cell_type": "code",
   "execution_count": 50,
   "metadata": {},
   "outputs": [
    {
     "data": {
      "text/plain": [
       "ethnicity\n",
       "native        201561\n",
       "western        17772\n",
       "nonwestern     11275\n",
       "Name: count, dtype: int64"
      ]
     },
     "execution_count": 50,
     "metadata": {},
     "output_type": "execute_result"
    }
   ],
   "source": [
    "categorical_data['ethnicity'].value_counts()"
   ]
  },
  {
   "cell_type": "code",
   "execution_count": 51,
   "metadata": {},
   "outputs": [
    {
     "data": {
      "image/png": "[encoded data removed]",
      "text/plain": [
       "<Figure size 2000x1000 with 6 Axes>"
      ]
     },
     "metadata": {},
     "output_type": "display_data"
    }
   ],
   "source": [
    "fig,ax=plt.subplots(2,3,figsize=(20,10))\n",
    "categorical_data['male'].value_counts().plot(kind='bar',color='black',ax=ax[0,0])\n",
    "categorical_data['ethnicity'].value_counts().plot(kind='bar',color='black',ax=ax[0,1])\n",
    "categorical_data['education'].value_counts().plot(kind='bar',color='black',ax=ax[0,2])\n",
    "categorical_data['income'].value_counts().plot(kind='bar',color='black',ax=ax[1,0])\n",
    "categorical_data['license'].value_counts().plot(kind='bar',color='black',ax=ax[1,1])\n",
    "categorical_data['weekend'].value_counts().plot(kind='bar',color='black',ax=ax[1,2])\n",
    "plt.show()"
   ]
  },
  {
   "cell_type": "markdown",
   "metadata": {},
   "source": [
    "you might notice `male`,`education`,`income` has a more balanced class than `ethnicity`,`license` and `weekend`"
   ]
  },
  {
   "cell_type": "markdown",
   "metadata": {},
   "source": [
    "# Data preparation\n",
    "Before we can use the data in our model we always need to transform it, process it, standardise it, clean it, etc. \n",
    "\n",
    "As a reminder, a couple of common data preparation procedures including;\n",
    "1. coding categorical variables into numeric variables\n",
    "2. transforming the numerous variables to be more symmetrically distributed (it is not an assumption of machine learning models but in practice it often helps in training)\n",
    "3. standardise the numerous variables to make the features more comparable and to improve stability in training.\n",
    "\n",
    "Please read more [here](https://scikit-learn.org/stable/modules/preprocessing.html#standardization-or-mean-removal-and-variance-scaling)\n",
    "\n"
   ]
  },
  {
   "cell_type": "markdown",
   "metadata": {},
   "source": [
    "Let's now transform the highly skewed numeric variables so that it is less skewed. This is not a necessary assumption for most machine learning algorithm but it helps in practice. It also reduces the influence of the extreme values. "
   ]
  },
  {
   "cell_type": "code",
   "execution_count": 52,
   "metadata": {},
   "outputs": [
    {
     "name": "stdout",
     "output_type": "stream",
     "text": [
      "leftskewed:Index([], dtype='object') and right-skewed:Index(['distance', 'density', 'cars', 'precip', 'wind'], dtype='object')\n"
     ]
    }
   ],
   "source": [
    "from scipy.stats import skew\n",
    "\n",
    "# you can calculate the skewness of the variable by using skew function in scipy.stats\n",
    "numeric_data=X.select_dtypes(include=[np.number])\n",
    "\n",
    "skewed = X[numeric_data.columns].apply(lambda x: skew(x.dropna().astype(float)))\n",
    "\n",
    "# these are all the variables that are very positively skewed. \n",
    "rskewed = skewed[(skewed > 1)].index\n",
    "\n",
    "# these are all the variables that are very negatively skewed. \n",
    "lskewed = skewed[(skewed < -1)].index\n",
    "print (f'leftskewed:{lskewed} and right-skewed:{rskewed}')"
   ]
  },
  {
   "cell_type": "markdown",
   "metadata": {},
   "source": [
    "You will see a number of variables are highly right-skewed so let's transform these ones specifically. For right-skewed variables, log-transform the variable `X[rskewed] = np.log1p(X[rskewed])`. If there were any left-skewed variables, you would log transform the reflected skewed variable `X[lskewed] = np.log1p(np.max(X[lskewed])-X[lskewed])`. "
   ]
  },
  {
   "cell_type": "code",
   "execution_count": 53,
   "metadata": {},
   "outputs": [
    {
     "data": {
      "image/png": "[encoded data removed]",
      "text/plain": [
       "<Figure size 1500x700 with 10 Axes>"
      ]
     },
     "metadata": {},
     "output_type": "display_data"
    },
    {
     "name": "stderr",
     "output_type": "stream",
     "text": [
      "C:\\Users\\jihun\\AppData\\Local\\Temp\\ipykernel_27920\\2709902784.py:6: SettingWithCopyWarning: \n",
      "A value is trying to be set on a copy of a slice from a DataFrame.\n",
      "Try using .loc[row_indexer,col_indexer] = value instead\n",
      "\n",
      "See the caveats in the documentation: https://pandas.pydata.org/pandas-docs/stable/user_guide/indexing.html#returning-a-view-versus-a-copy\n",
      "  X[rskewed] = np.log1p(X[rskewed])\n"
     ]
    },
    {
     "data": {
      "image/png": "[encoded data removed]",
      "text/plain": [
       "<Figure size 1500x700 with 10 Axes>"
      ]
     },
     "metadata": {},
     "output_type": "display_data"
    }
   ],
   "source": [
    "# before transformation plot\n",
    "X[rskewed].hist(bins=20,figsize=(15,7), color='skyblue', xlabelsize=0, ylabelsize=0, grid=False, layout=(2,5))\n",
    "plt.show()\n",
    "\n",
    "# log-transforms the right skewed reflected variables of the dataset \n",
    "X[rskewed] = np.log1p(X[rskewed])\n",
    "\n",
    "# now plot again the variables after their log transformation\n",
    "X[rskewed].hist(bins=20,figsize=(15,7), color='orange', xlabelsize=0, ylabelsize=0, grid=False, layout=(2,5))\n",
    "plt.show()"
   ]
  },
  {
   "cell_type": "markdown",
   "metadata": {},
   "source": [
    "### reminder note on transformation\n",
    "\n",
    "What do you notice different pre- and post-transformation for the variables above? For which variables does the log-transformation seem to make it less skewed?  \n",
    "\n",
    "It is important to note, data transformations is common to make skewed variable less skewed but it must be applied very cautiously and it isn't a necessary condition for running regression models and you loses interpretability for the specific feature. It's crucial to examine the distribution of your data and consider the context of your analysis before deciding whether to log transform the numeric variables. Additionally, if you do choose to log transform, ensure that you handle zero values appropriately (e.g., by adding a small constant before transformation if zero values are present).\n",
    "\n",
    "Be sure to play around with the many different arguments that allow you to customise the look of your multi-grid histogram plots with the `.hist()` (and all the other functions you come to interface with). \n",
    "\n",
    "Other more advance forms of transforms (`power transform`) are detailed [here](https://scikit-learn.org/stable/modules/generated/sklearn.preprocessing.power_transform.html)."
   ]
  },
  {
   "cell_type": "markdown",
   "metadata": {},
   "source": [
    "### Correlations/Covariance between variables\n",
    "\n",
    "We can use a correlation matrix to understand the association between variables. Variables are almost always correlated. Ideally, we want our input variables to not be totally correlated with one another. Significant correlation between our independent variables undermines the robustness of our model and interpretability.  "
   ]
  },
  {
   "cell_type": "code",
   "execution_count": 54,
   "metadata": {},
   "outputs": [
    {
     "data": {
      "image/png": "[encoded data removed]",
      "text/plain": [
       "<Figure size 1500x1500 with 2 Axes>"
      ]
     },
     "metadata": {},
     "output_type": "display_data"
    }
   ],
   "source": [
    "# create correlation matrix to understand the association between variables\n",
    "import seaborn as sns\n",
    "corr = X[numeric_data.columns].corr()\n",
    "f, ax = plt.subplots(figsize=(15, 15))\n",
    "sns.heatmap(corr, center=0,cmap=plt.get_cmap('magma_r'),\n",
    "            square=True, linewidths=.05, annot=True, vmin=-1, vmax=1,ax=ax) \n",
    "plt.show()"
   ]
  },
  {
   "cell_type": "markdown",
   "metadata": {},
   "source": [
    "#### 🤨 TASK\n",
    "What do you notice? Which variables are highly correlated with each other and which are not? \n",
    "Why do you think `density` and `green` have a strong negative correlation? "
   ]
  },
  {
   "cell_type": "code",
   "execution_count": 20,
   "metadata": {},
   "outputs": [],
   "source": [
    "# Highly correlated variables include density-green (negative), density-diversity (negative), age-bicycles (negative) diversity-green, precip-wind, cars-bicycle, cars-green\n",
    "# The denser a part of the city is, the less proportion of green area it would have"
   ]
  },
  {
   "cell_type": "markdown",
   "metadata": {},
   "source": [
    "As we learnt in the previous classes, there are many different methods to explore the data. `Seaborn` is a popular library to further interrogate the data. More information can be found [here](https://seaborn.pydata.org/)."
   ]
  },
  {
   "cell_type": "markdown",
   "metadata": {},
   "source": [
    "#### Standardise data\n",
    "We need to standardise the data (again!) to make them comparable and more stable for training. Remember the units also become less interpretable."
   ]
  },
  {
   "cell_type": "code",
   "execution_count": 55,
   "metadata": {},
   "outputs": [
    {
     "data": {
      "text/html": [
       "<div>\n",
       "<style scoped>\n",
       "    .dataframe tbody tr th:only-of-type {\n",
       "        vertical-align: middle;\n",
       "    }\n",
       "\n",
       "    .dataframe tbody tr th {\n",
       "        vertical-align: top;\n",
       "    }\n",
       "\n",
       "    .dataframe thead th {\n",
       "        text-align: right;\n",
       "    }\n",
       "</style>\n",
       "<table border=\"1\" class=\"dataframe\">\n",
       "  <thead>\n",
       "    <tr style=\"text-align: right;\">\n",
       "      <th></th>\n",
       "      <th>distance</th>\n",
       "      <th>density</th>\n",
       "      <th>age</th>\n",
       "      <th>cars</th>\n",
       "      <th>bicycles</th>\n",
       "      <th>diversity</th>\n",
       "      <th>green</th>\n",
       "      <th>temp</th>\n",
       "      <th>precip</th>\n",
       "      <th>wind</th>\n",
       "    </tr>\n",
       "  </thead>\n",
       "  <tbody>\n",
       "    <tr>\n",
       "      <th>0</th>\n",
       "      <td>0.693147</td>\n",
       "      <td>0.816510</td>\n",
       "      <td>84</td>\n",
       "      <td>0.000000</td>\n",
       "      <td>1</td>\n",
       "      <td>1.24604</td>\n",
       "      <td>26.881233</td>\n",
       "      <td>0.1</td>\n",
       "      <td>0.09531</td>\n",
       "      <td>1.386294</td>\n",
       "    </tr>\n",
       "    <tr>\n",
       "      <th>1</th>\n",
       "      <td>2.397895</td>\n",
       "      <td>0.816510</td>\n",
       "      <td>84</td>\n",
       "      <td>0.000000</td>\n",
       "      <td>1</td>\n",
       "      <td>1.24604</td>\n",
       "      <td>26.881233</td>\n",
       "      <td>0.1</td>\n",
       "      <td>0.09531</td>\n",
       "      <td>1.386294</td>\n",
       "    </tr>\n",
       "    <tr>\n",
       "      <th>2</th>\n",
       "      <td>1.386294</td>\n",
       "      <td>1.016187</td>\n",
       "      <td>27</td>\n",
       "      <td>0.693147</td>\n",
       "      <td>2</td>\n",
       "      <td>1.53959</td>\n",
       "      <td>36.045955</td>\n",
       "      <td>-3.4</td>\n",
       "      <td>0.04879</td>\n",
       "      <td>1.029619</td>\n",
       "    </tr>\n",
       "    <tr>\n",
       "      <th>3</th>\n",
       "      <td>1.386294</td>\n",
       "      <td>1.016187</td>\n",
       "      <td>27</td>\n",
       "      <td>0.693147</td>\n",
       "      <td>2</td>\n",
       "      <td>1.53959</td>\n",
       "      <td>36.045955</td>\n",
       "      <td>-3.4</td>\n",
       "      <td>0.04879</td>\n",
       "      <td>1.029619</td>\n",
       "    </tr>\n",
       "    <tr>\n",
       "      <th>4</th>\n",
       "      <td>4.135167</td>\n",
       "      <td>1.016187</td>\n",
       "      <td>27</td>\n",
       "      <td>0.693147</td>\n",
       "      <td>2</td>\n",
       "      <td>1.53959</td>\n",
       "      <td>36.045955</td>\n",
       "      <td>-3.4</td>\n",
       "      <td>0.04879</td>\n",
       "      <td>1.029619</td>\n",
       "    </tr>\n",
       "  </tbody>\n",
       "</table>\n",
       "</div>"
      ],
      "text/plain": [
       "   distance   density  age      cars  bicycles  diversity      green  temp  \\\n",
       "0  0.693147  0.816510   84  0.000000         1    1.24604  26.881233   0.1   \n",
       "1  2.397895  0.816510   84  0.000000         1    1.24604  26.881233   0.1   \n",
       "2  1.386294  1.016187   27  0.693147         2    1.53959  36.045955  -3.4   \n",
       "3  1.386294  1.016187   27  0.693147         2    1.53959  36.045955  -3.4   \n",
       "4  4.135167  1.016187   27  0.693147         2    1.53959  36.045955  -3.4   \n",
       "\n",
       "    precip      wind  \n",
       "0  0.09531  1.386294  \n",
       "1  0.09531  1.386294  \n",
       "2  0.04879  1.029619  \n",
       "3  0.04879  1.029619  \n",
       "4  0.04879  1.029619  "
      ]
     },
     "execution_count": 55,
     "metadata": {},
     "output_type": "execute_result"
    }
   ],
   "source": [
    "X[numeric_data.columns].head()"
   ]
  },
  {
   "cell_type": "code",
   "execution_count": 56,
   "metadata": {},
   "outputs": [],
   "source": [
    "# this line creates an instance of the Standard Scaler to transform the data\n",
    "from sklearn import preprocessing\n",
    "scaler = preprocessing.StandardScaler()"
   ]
  },
  {
   "cell_type": "code",
   "execution_count": 57,
   "metadata": {},
   "outputs": [
    {
     "name": "stderr",
     "output_type": "stream",
     "text": [
      "C:\\Users\\jihun\\AppData\\Local\\Temp\\ipykernel_27920\\2308393538.py:2: SettingWithCopyWarning: \n",
      "A value is trying to be set on a copy of a slice from a DataFrame.\n",
      "Try using .loc[row_indexer,col_indexer] = value instead\n",
      "\n",
      "See the caveats in the documentation: https://pandas.pydata.org/pandas-docs/stable/user_guide/indexing.html#returning-a-view-versus-a-copy\n",
      "  X[numeric_data.columns] = scaler.fit_transform(X[numeric_data.columns]) #we standardise all variables, including the log transformed ones\n"
     ]
    }
   ],
   "source": [
    "# this fits and transforms the data\n",
    "X[numeric_data.columns] = scaler.fit_transform(X[numeric_data.columns]) #we standardise all variables, including the log transformed ones"
   ]
  },
  {
   "cell_type": "code",
   "execution_count": 58,
   "metadata": {},
   "outputs": [
    {
     "data": {
      "text/html": [
       "<div>\n",
       "<style scoped>\n",
       "    .dataframe tbody tr th:only-of-type {\n",
       "        vertical-align: middle;\n",
       "    }\n",
       "\n",
       "    .dataframe tbody tr th {\n",
       "        vertical-align: top;\n",
       "    }\n",
       "\n",
       "    .dataframe thead th {\n",
       "        text-align: right;\n",
       "    }\n",
       "</style>\n",
       "<table border=\"1\" class=\"dataframe\">\n",
       "  <thead>\n",
       "    <tr style=\"text-align: right;\">\n",
       "      <th></th>\n",
       "      <th>distance</th>\n",
       "      <th>density</th>\n",
       "      <th>age</th>\n",
       "      <th>cars</th>\n",
       "      <th>bicycles</th>\n",
       "      <th>diversity</th>\n",
       "      <th>green</th>\n",
       "      <th>temp</th>\n",
       "      <th>precip</th>\n",
       "      <th>wind</th>\n",
       "    </tr>\n",
       "  </thead>\n",
       "  <tbody>\n",
       "    <tr>\n",
       "      <th>0</th>\n",
       "      <td>-0.970743</td>\n",
       "      <td>0.005842</td>\n",
       "      <td>2.280451</td>\n",
       "      <td>-2.328318</td>\n",
       "      <td>-1.217145</td>\n",
       "      <td>-1.072714</td>\n",
       "      <td>-1.265462</td>\n",
       "      <td>-1.746950</td>\n",
       "      <td>-0.641799</td>\n",
       "      <td>-0.497952</td>\n",
       "    </tr>\n",
       "    <tr>\n",
       "      <th>1</th>\n",
       "      <td>0.519275</td>\n",
       "      <td>0.005842</td>\n",
       "      <td>2.280451</td>\n",
       "      <td>-2.328318</td>\n",
       "      <td>-1.217145</td>\n",
       "      <td>-1.072714</td>\n",
       "      <td>-1.265462</td>\n",
       "      <td>-1.746950</td>\n",
       "      <td>-0.641799</td>\n",
       "      <td>-0.497952</td>\n",
       "    </tr>\n",
       "    <tr>\n",
       "      <th>2</th>\n",
       "      <td>-0.364904</td>\n",
       "      <td>0.423073</td>\n",
       "      <td>-1.296614</td>\n",
       "      <td>-0.336459</td>\n",
       "      <td>-0.700778</td>\n",
       "      <td>-0.477322</td>\n",
       "      <td>-0.852122</td>\n",
       "      <td>-2.209564</td>\n",
       "      <td>-0.695103</td>\n",
       "      <td>-1.496529</td>\n",
       "    </tr>\n",
       "    <tr>\n",
       "      <th>3</th>\n",
       "      <td>-0.364904</td>\n",
       "      <td>0.423073</td>\n",
       "      <td>-1.296614</td>\n",
       "      <td>-0.336459</td>\n",
       "      <td>-0.700778</td>\n",
       "      <td>-0.477322</td>\n",
       "      <td>-0.852122</td>\n",
       "      <td>-2.209564</td>\n",
       "      <td>-0.695103</td>\n",
       "      <td>-1.496529</td>\n",
       "    </tr>\n",
       "    <tr>\n",
       "      <th>4</th>\n",
       "      <td>2.037720</td>\n",
       "      <td>0.423073</td>\n",
       "      <td>-1.296614</td>\n",
       "      <td>-0.336459</td>\n",
       "      <td>-0.700778</td>\n",
       "      <td>-0.477322</td>\n",
       "      <td>-0.852122</td>\n",
       "      <td>-2.209564</td>\n",
       "      <td>-0.695103</td>\n",
       "      <td>-1.496529</td>\n",
       "    </tr>\n",
       "  </tbody>\n",
       "</table>\n",
       "</div>"
      ],
      "text/plain": [
       "   distance   density       age      cars  bicycles  diversity     green  \\\n",
       "0 -0.970743  0.005842  2.280451 -2.328318 -1.217145  -1.072714 -1.265462   \n",
       "1  0.519275  0.005842  2.280451 -2.328318 -1.217145  -1.072714 -1.265462   \n",
       "2 -0.364904  0.423073 -1.296614 -0.336459 -0.700778  -0.477322 -0.852122   \n",
       "3 -0.364904  0.423073 -1.296614 -0.336459 -0.700778  -0.477322 -0.852122   \n",
       "4  2.037720  0.423073 -1.296614 -0.336459 -0.700778  -0.477322 -0.852122   \n",
       "\n",
       "       temp    precip      wind  \n",
       "0 -1.746950 -0.641799 -0.497952  \n",
       "1 -1.746950 -0.641799 -0.497952  \n",
       "2 -2.209564 -0.695103 -1.496529  \n",
       "3 -2.209564 -0.695103 -1.496529  \n",
       "4 -2.209564 -0.695103 -1.496529  "
      ]
     },
     "execution_count": 58,
     "metadata": {},
     "output_type": "execute_result"
    }
   ],
   "source": [
    "X[numeric_data.columns].head()"
   ]
  },
  {
   "cell_type": "markdown",
   "metadata": {},
   "source": [
    "let's then cast the categorical variables into numeric variables for analysis."
   ]
  },
  {
   "cell_type": "code",
   "execution_count": 59,
   "metadata": {},
   "outputs": [],
   "source": [
    "X=pd.concat([X,pd.get_dummies(X['ethnicity'])],axis=1)\n",
    "X=pd.concat([X,pd.get_dummies(X['male'])],axis=1)\n",
    "X=pd.concat([X,pd.get_dummies(X['education'])],axis=1)\n",
    "X=pd.concat([X,pd.get_dummies(X['income'])],axis=1)\n",
    "X=pd.concat([X,pd.get_dummies(X['license'])],axis=1)\n",
    "X=pd.concat([X,pd.get_dummies(X['weekend'])],axis=1)\n",
    "\n",
    "#The pd.concat() operation with pd.get_dummies() adds new columns to X (dummy variables) \n",
    "#and 'X.columns=' ensures that those columns have the desired labels\n",
    "\n",
    "X.columns=['distance', 'density', 'age', 'male', 'ethnicity', 'education',\n",
    "       'income', 'cars', 'license', 'bicycles', 'weekend', 'diversity',\n",
    "       'green', 'temp', 'precip', 'wind', 'native_eth', 'nonwestern_eth', 'western_eth',\n",
    "       'no_male', 'yes_male', 'higher_edu', 'lower_edu', 'middle_edu', '20to40_inc', 'less20_inc', 'more40_inc',\n",
    "       'no_license', 'yes_license', 'no_weekend', 'yes_weekend']\n",
    "\n",
    "#it is redundant to keep both 'no_license' and 'yes_license' etc. so we select only specific variables\n",
    "X=X[['distance', 'density', 'age', 'cars', 'bicycles', 'diversity',\n",
    "       'green', 'temp', 'precip', 'wind', 'native_eth', 'nonwestern_eth', 'western_eth',\n",
    "       'yes_male', 'higher_edu', 'lower_edu', 'middle_edu','20to40_inc', 'less20_inc', 'more40_inc',\n",
    "       'yes_license', 'yes_weekend']]"
   ]
  },
  {
   "cell_type": "markdown",
   "metadata": {},
   "source": [
    "Do the same for the target variable (y)"
   ]
  },
  {
   "cell_type": "code",
   "execution_count": 60,
   "metadata": {},
   "outputs": [
    {
     "name": "stderr",
     "output_type": "stream",
     "text": [
      "C:\\Users\\jihun\\anaconda3\\Lib\\site-packages\\sklearn\\preprocessing\\_label.py:114: DataConversionWarning: A column-vector y was passed when a 1d array was expected. Please change the shape of y to (n_samples, ), for example using ravel().\n",
      "  y = column_or_1d(y, warn=True)\n"
     ]
    }
   ],
   "source": [
    "from sklearn.preprocessing import LabelEncoder\n",
    "Label = LabelEncoder() #easy labelling with LabelEncoder\n",
    "y=pd.concat([y,pd.DataFrame(Label.fit_transform(y),columns=['labels'])],axis=1)\n",
    "ylabels=y['labels']"
   ]
  },
  {
   "cell_type": "code",
   "execution_count": 61,
   "metadata": {},
   "outputs": [
    {
     "name": "stdout",
     "output_type": "stream",
     "text": [
      "mode_main  labels\n",
      "car        1         127439\n",
      "bike       0          56298\n",
      "walk       3          37571\n",
      "pt         2           9300\n",
      "Name: count, dtype: int64\n",
      "0         3\n",
      "1         3\n",
      "2         1\n",
      "3         1\n",
      "4         1\n",
      "         ..\n",
      "230603    0\n",
      "230604    0\n",
      "230605    1\n",
      "230606    1\n",
      "230607    1\n",
      "Name: labels, Length: 230608, dtype: int32\n"
     ]
    }
   ],
   "source": [
    "print(y.value_counts())\n",
    "print(ylabels)"
   ]
  },
  {
   "cell_type": "markdown",
   "metadata": {},
   "source": [
    "### Splitting the dataset into training and test groups\n",
    "\n",
    "As we mentioned in the last couple of classes, in machine learning applications, it is **important** to split the entire dataset at least two sets - the `_train` and `_test` sets to see how well it generalises - i.e., is it over-fitted to the dataset you made it using, such that it has little worth when used to predict outcomes on another dataset? In many cases, you might need to have three dataset namely `train/val/test` where the validation dataset in this case would be only used for the purposes of hyper-parameter tuning. "
   ]
  },
  {
   "cell_type": "code",
   "execution_count": 62,
   "metadata": {},
   "outputs": [],
   "source": [
    "#splits the datasets (both x- and y-variables) into the training and test sets\n",
    "(X_train, X_test, y_train, y_test) = train_test_split(X, ylabels, train_size=0.7, random_state=1)"
   ]
  },
  {
   "cell_type": "code",
   "execution_count": 63,
   "metadata": {},
   "outputs": [
    {
     "data": {
      "text/plain": [
       "array([1, 3, 1, 3, 1, 2, 3, 1, 1, 1])"
      ]
     },
     "execution_count": 63,
     "metadata": {},
     "output_type": "execute_result"
    }
   ],
   "source": [
    "#creates a new logistic regression model\n",
    "model = LogisticRegression()\n",
    "#fits (/configures) this model using the training data\n",
    "model.fit(X_train, y_train)\n",
    "\n",
    "#then tries to make a prediction using the test dataset's x-variables\n",
    "y_pred=model.predict(X_test)\n",
    "y_pred[0:10]"
   ]
  },
  {
   "cell_type": "markdown",
   "metadata": {},
   "source": [
    "#### 🤨 TASK\n",
    "**Always sanity check** : do the results make sense? How do these predictions compare to the ground-truth? Plot the first 10 samples in y_test."
   ]
  },
  {
   "cell_type": "code",
   "execution_count": 64,
   "metadata": {},
   "outputs": [
    {
     "data": {
      "image/png": "[encoded data removed]",
      "text/plain": [
       "<Figure size 640x480 with 1 Axes>"
      ]
     },
     "metadata": {},
     "output_type": "display_data"
    }
   ],
   "source": [
    "pd.DataFrame(y_test[1:10].value_counts(), index = [0, 1, 2, 3]).plot(kind='bar',color='black')\n",
    "plt.xticks(rotation=0)\n",
    "plt.show()"
   ]
  },
  {
   "cell_type": "markdown",
   "metadata": {},
   "source": [
    "Remember that the logistic regression estimates **probabilities** (in this case, which travel mode an individual takes), then classifies them into the mode they most likely have taken. To have an understanding of how accurate our model was, we can, instead of asking the model to give us the final classifications (travel mode), return the probabilities that it calculated."
   ]
  },
  {
   "cell_type": "code",
   "execution_count": 65,
   "metadata": {},
   "outputs": [
    {
     "data": {
      "text/html": [
       "<div>\n",
       "<style scoped>\n",
       "    .dataframe tbody tr th:only-of-type {\n",
       "        vertical-align: middle;\n",
       "    }\n",
       "\n",
       "    .dataframe tbody tr th {\n",
       "        vertical-align: top;\n",
       "    }\n",
       "\n",
       "    .dataframe thead tr th {\n",
       "        text-align: left;\n",
       "    }\n",
       "</style>\n",
       "<table border=\"1\" class=\"dataframe\">\n",
       "  <thead>\n",
       "    <tr>\n",
       "      <th></th>\n",
       "      <th>walk</th>\n",
       "      <th>car</th>\n",
       "      <th>pt</th>\n",
       "      <th>bike</th>\n",
       "    </tr>\n",
       "  </thead>\n",
       "  <tbody>\n",
       "    <tr>\n",
       "      <th>0</th>\n",
       "      <td>0.289785</td>\n",
       "      <td>0.510444</td>\n",
       "      <td>0.003045</td>\n",
       "      <td>0.196726</td>\n",
       "    </tr>\n",
       "    <tr>\n",
       "      <th>1</th>\n",
       "      <td>0.386841</td>\n",
       "      <td>0.092283</td>\n",
       "      <td>0.010608</td>\n",
       "      <td>0.510267</td>\n",
       "    </tr>\n",
       "    <tr>\n",
       "      <th>2</th>\n",
       "      <td>0.037357</td>\n",
       "      <td>0.834254</td>\n",
       "      <td>0.127824</td>\n",
       "      <td>0.000566</td>\n",
       "    </tr>\n",
       "    <tr>\n",
       "      <th>3</th>\n",
       "      <td>0.204236</td>\n",
       "      <td>0.291914</td>\n",
       "      <td>0.000980</td>\n",
       "      <td>0.502870</td>\n",
       "    </tr>\n",
       "    <tr>\n",
       "      <th>4</th>\n",
       "      <td>0.198813</td>\n",
       "      <td>0.686258</td>\n",
       "      <td>0.006184</td>\n",
       "      <td>0.108745</td>\n",
       "    </tr>\n",
       "    <tr>\n",
       "      <th>5</th>\n",
       "      <td>0.212566</td>\n",
       "      <td>0.050989</td>\n",
       "      <td>0.659583</td>\n",
       "      <td>0.076861</td>\n",
       "    </tr>\n",
       "    <tr>\n",
       "      <th>6</th>\n",
       "      <td>0.286024</td>\n",
       "      <td>0.153208</td>\n",
       "      <td>0.000316</td>\n",
       "      <td>0.560452</td>\n",
       "    </tr>\n",
       "    <tr>\n",
       "      <th>7</th>\n",
       "      <td>0.133494</td>\n",
       "      <td>0.554550</td>\n",
       "      <td>0.309979</td>\n",
       "      <td>0.001977</td>\n",
       "    </tr>\n",
       "    <tr>\n",
       "      <th>8</th>\n",
       "      <td>0.124559</td>\n",
       "      <td>0.775631</td>\n",
       "      <td>0.048556</td>\n",
       "      <td>0.051254</td>\n",
       "    </tr>\n",
       "    <tr>\n",
       "      <th>9</th>\n",
       "      <td>0.218473</td>\n",
       "      <td>0.430843</td>\n",
       "      <td>0.002844</td>\n",
       "      <td>0.347840</td>\n",
       "    </tr>\n",
       "  </tbody>\n",
       "</table>\n",
       "</div>"
      ],
      "text/plain": [
       "       walk       car        pt      bike\n",
       "0  0.289785  0.510444  0.003045  0.196726\n",
       "1  0.386841  0.092283  0.010608  0.510267\n",
       "2  0.037357  0.834254  0.127824  0.000566\n",
       "3  0.204236  0.291914  0.000980  0.502870\n",
       "4  0.198813  0.686258  0.006184  0.108745\n",
       "5  0.212566  0.050989  0.659583  0.076861\n",
       "6  0.286024  0.153208  0.000316  0.560452\n",
       "7  0.133494  0.554550  0.309979  0.001977\n",
       "8  0.124559  0.775631  0.048556  0.051254\n",
       "9  0.218473  0.430843  0.002844  0.347840"
      ]
     },
     "execution_count": 65,
     "metadata": {},
     "output_type": "execute_result"
    }
   ],
   "source": [
    "#predict probabilities of allocation of each categories\n",
    "y_pred_prob=model.predict_proba(X_test)\n",
    "pd.DataFrame(y_pred_prob,columns=[y.mode_main.unique()]).head(n=10)"
   ]
  },
  {
   "cell_type": "markdown",
   "metadata": {},
   "source": [
    "### Reporting Results - Classificaton"
   ]
  },
  {
   "cell_type": "markdown",
   "metadata": {},
   "source": [
    "Let's report the result with accuracy (the number of correctly predicted divided by its total)."
   ]
  },
  {
   "cell_type": "code",
   "execution_count": 66,
   "metadata": {},
   "outputs": [
    {
     "name": "stdout",
     "output_type": "stream",
     "text": [
      "the out of sample test accuracy is : 0.676\n"
     ]
    }
   ],
   "source": [
    "#reports the prediction accuracy of the testset\n",
    "print ('the out of sample test accuracy is : '+ str(round(accuracy_score(y_test, y_pred),3)))"
   ]
  },
  {
   "cell_type": "markdown",
   "metadata": {},
   "source": [
    "Let's now compare the results to the training set prediction. A significant difference between training and test accuracy (e.g., high training accuracy (below) but low test accuracy (above)) would indicate overfitting."
   ]
  },
  {
   "cell_type": "code",
   "execution_count": 67,
   "metadata": {},
   "outputs": [
    {
     "name": "stdout",
     "output_type": "stream",
     "text": [
      "the in sample test accuracy is : 0.674\n"
     ]
    }
   ],
   "source": [
    "#reports the prediction accuracy of the trainset\n",
    "y_pred_train=model.predict(X_train) \n",
    "print ('the in sample test accuracy is : '+ str(round(accuracy_score(y_train, y_pred_train),3)))"
   ]
  },
  {
   "cell_type": "markdown",
   "metadata": {},
   "source": [
    "The results are really similar meaning the model is likely not to be overfitting. "
   ]
  },
  {
   "cell_type": "markdown",
   "metadata": {},
   "source": [
    "As a reminder, for more details of the model, we can use the ```classification_report``` function in ```sklearn```. The report shows some key metrics through which we can judge the accuracy of the logistic regression model we have created: **accuracy,precision, recall and f1-score**. The calculation of precision and recall statistics entails using measures such as the rates of true and false negatives/positives (by comparing the predicted and observed) while F1 score is a composite measure that takes into consideration both the former two. In general these measures should be reported specially when the data is imbalanced (as here). \n",
    "\n",
    "More formally;\n",
    "\n",
    "$Precision = TP/(TP+FP)$\n",
    "\n",
    "$Recall = TP/(TP+FN)$\n",
    "\n",
    "$F1 = 2(Precision*Recall)/(Precision+Recall)$\n",
    "\n",
    "Read more about these statistics [here](https://muthu.co/understanding-the-classification-report-in-sklearn/) or look at documentation [here](https://scikit-learn.org/stable/modules/model_evaluation.html#classification-report). \n",
    "\n",
    "```classification_report``` provides the results for each category as well as the macro averages (i.e. averages across the categories).\n"
   ]
  },
  {
   "cell_type": "code",
   "execution_count": 68,
   "metadata": {},
   "outputs": [
    {
     "name": "stdout",
     "output_type": "stream",
     "text": [
      "              precision    recall  f1-score   support\n",
      "\n",
      "           0       0.54      0.44      0.48     16839\n",
      "           1       0.74      0.87      0.80     38380\n",
      "           2       0.60      0.23      0.33      2741\n",
      "           3       0.56      0.47      0.51     11223\n",
      "\n",
      "    accuracy                           0.68     69183\n",
      "   macro avg       0.61      0.50      0.53     69183\n",
      "weighted avg       0.66      0.68      0.66     69183\n",
      "\n"
     ]
    }
   ],
   "source": [
    "from sklearn.metrics import classification_report\n",
    "print(classification_report(y_test, y_pred))"
   ]
  },
  {
   "cell_type": "markdown",
   "metadata": {},
   "source": [
    "### Confusion Matrix\n",
    "Let's also produce the <b>confusion matrix</b>, which shows exactly what proportion of each travel choice was rightly and wrongly classified. The x- and y-axes of the plot below shows, respectively, the travel mode that was predicted (```Predicted label```) vs the ground truth (```True label```) is. Those along the diagonals are rightly predicted and those along the off diagonals are wrongly predicted or confused."
   ]
  },
  {
   "cell_type": "code",
   "execution_count": 69,
   "metadata": {},
   "outputs": [
    {
     "data": {
      "text/plain": [
       "<sklearn.metrics._plot.confusion_matrix.ConfusionMatrixDisplay at 0x13630e53490>"
      ]
     },
     "execution_count": 69,
     "metadata": {},
     "output_type": "execute_result"
    },
    {
     "data": {
      "image/png": "[encoded data removed]",
      "text/plain": [
       "<Figure size 640x480 with 2 Axes>"
      ]
     },
     "metadata": {},
     "output_type": "display_data"
    }
   ],
   "source": [
    "from sklearn.metrics import ConfusionMatrixDisplay\n",
    "ConfusionMatrixDisplay.from_estimator(model, X_test, y_test, normalize='true')"
   ]
  },
  {
   "cell_type": "markdown",
   "metadata": {},
   "source": [
    "#### 🤨 TASK\n",
    "what do you notice? which travel mode is making the most errors? why do you think is the case here?"
   ]
  },
  {
   "cell_type": "code",
   "execution_count": null,
   "metadata": {},
   "outputs": [],
   "source": [
    "# Public Transport is making the most errors, likely due to having the lowest number of data points (9300) compared to others e.g. car (127439)"
   ]
  },
  {
   "cell_type": "markdown",
   "metadata": {},
   "source": [
    "### Model comparison - Ensemble Learners\n",
    "Comparing models is a critical aspect of machine learning. What makes using the syntax of `sklearn` so convenient is that you only need to make a few adjustments to run a different model ie. `model.fit`. In this case we will learn about `Decision Tree` Classifiers and `Random Forest` Classifiers.\n",
    "\n",
    "Let's take this opportunity to try out a different model as an example. In this case we will use the `RandomForestClassifier`. `RF` is an `ensemble learning` method which uses multiple simple predictors in order to make a better prediction. The hypothesis is that multipler learners will generate better results than a single learner. For tabular data, `ensemble learning` algorithms are even outperforming deep neural networks such as transformers (Shwartz-Ziv et al 2022).\n",
    "\n",
    "In greater detail, **Random Forest Regressors/ Classifiers** (Breiman 2001), is based on fitting a multitude of [Decision Trees](https://scikit-learn.org/stable/modules/generated/sklearn.tree.DecisionTreeClassifier.html)[1], each on samples drawn with replacement (i.e., bootstrap sample) from the training set. The outcomes from multiple simple models across multiple observations are often i. the one that is most often predicted (majority voting) across multiple trees for classification or ii. the mean or average prediction across multiple trees for regression.\n",
    "\n",
    "And lastly, another ensemble learning method is **Gradient Boosting Regressors/ Classifiers** (Friedman 2001), which combines many weak \"learners\" into a single strong learner in an iterative fashion where each regressor tries to improve the previous model. The one implemented in `sklearn` is called `GradientBoostingClassifier`. \n",
    "\n",
    "There are many more machine learning algorithms and this is only the tip of the ice-berg. We will explore one in today's exericise. The aim here isn't to describe every one of these but rather to show the spectrum of methods where the student can then go and explore.  \n",
    "\n",
    "<img src=\"Random Forest Diagram (wikipedia-commons).png\" alt=\"drawing\" width=\"620\" align='center' >\n",
    "<center><b>Fig 1. Random Forest Diagram (wikipedia-commons).</b></center>\n",
    "\n",
    "\n",
    "[1] It is important to give a simple description of Decision Tree here. DT is another supervised learning algorithm that learns simple decision rules inferred from the data features. As implied by the 'tree' in its name, the model can pass each observation that goes through it via multiple branches (or routes) of decisions to help it derive a final outcome for that given observation). [For a premier of Decision Trees in plain English, this](https://towardsdatascience.com/decision-trees-explained-3ec41632ceb6) is a good link to have a brief read at! \n",
    "\n",
    "Breiman, L. (2001). Random forests. Machine learning, 45(1), 5-32. \n",
    "\n",
    "Friedman, J.(2001). Greedy Function Approximation: A Gradient Boosting Machine, The Annals of Statistics, 29(5)\n",
    "\n",
    "Shwartz-Ziv, R., & Armon, A. (2022). Tabular data: Deep learning is not all you need. Information Fusion, 81, 84-90.\n"
   ]
  },
  {
   "cell_type": "code",
   "execution_count": 70,
   "metadata": {},
   "outputs": [
    {
     "name": "stdout",
     "output_type": "stream",
     "text": [
      "the out of sample test accuracy for a RandomForestClassifier is : 0.823\n"
     ]
    }
   ],
   "source": [
    "from sklearn.ensemble import RandomForestClassifier\n",
    "model_forest =  RandomForestClassifier() \n",
    "model_forest.fit(X_train, y_train)\n",
    "y_pred=model_forest.predict(X_test)\n",
    "print ('the out of sample test accuracy for a RandomForestClassifier is : '+ str(round(accuracy_score(y_test, y_pred),3)))"
   ]
  },
  {
   "cell_type": "markdown",
   "metadata": {},
   "source": [
    "You can see that the calculation takes longer, but the accuracy is higher."
   ]
  },
  {
   "cell_type": "markdown",
   "metadata": {},
   "source": [
    "## Hyper-parameter tuning and Cross Validation\n",
    "\n",
    "Many models in machine learning have hyper-parameters which are parameters that are not directly learnt within the estimators but instead needs to be tuned. Typical hyper-parameters include `max_depth`(The maximum depth of the tree) and `n_estimators`(The number of trees in the forest) for [RandomForestClassifiers](https://scikit-learn.org/stable/modules/generated/sklearn.ensemble.RandomForestClassifier.html). Let's set randomly here `max_depth`=20. Remember to read the documentation of the model to know what each of these hyper-parameters mean."
   ]
  },
  {
   "cell_type": "code",
   "execution_count": 71,
   "metadata": {},
   "outputs": [
    {
     "name": "stdout",
     "output_type": "stream",
     "text": [
      "the out of sample test accuracy for a RandomForestClassifier is : 0.79\n"
     ]
    }
   ],
   "source": [
    "from sklearn.ensemble import RandomForestClassifier\n",
    "model_forest2 =  RandomForestClassifier(max_depth=20) \n",
    "model_forest2.fit(X_train, y_train)\n",
    "y_pred=model_forest2.predict(X_test)\n",
    "print ('the out of sample test accuracy for a RandomForestClassifier is : '+ str(round(accuracy_score(y_test, y_pred),3)))"
   ]
  },
  {
   "cell_type": "markdown",
   "metadata": {},
   "source": [
    "Are the results better or worse? how do we know whether these parameters yield the best results?"
   ]
  },
  {
   "cell_type": "markdown",
   "metadata": {},
   "source": [
    "### KFold Cross Validation\n",
    "\n",
    "As mentioned previously, when training a machine learning model that includes hyper-parameters. It is important to split the training data into a validation set. However, partitioning the training data into a train and validation set drastically reduce the number of samples which can be used for learning the model, while the results can depend on the particular validation set. A useful and common resampling procedure is  k-fold Cross validation, the training set is split into k smaller folds, where a model is trained on each folds of the training data and validated on the remaining parts of the data. This is repeated until all folds are exhausted. The results are calculated on an out-of-sample testset.\n",
    "\n",
    "<img src=\"https://scikit-learn.org/stable/_images/grid_search_cross_validation.png\" alt=\"drawing\" width=\"420\" align=\"left\">\n"
   ]
  },
  {
   "cell_type": "markdown",
   "metadata": {},
   "source": [
    "### GridSearchCV\n",
    "\n",
    "It is possible and recommended to search the hyper-parameter space for the best cross validation score using cross validation. A simple way to do this is called the `GridSearchCV` which exhaustively generates candidates from a grid of parameter values specified . To reduce the number of possible models to test, we restrict the search where \n",
    "`max_depth`:[10,40] and `n_estimators`:[100]. \n",
    "You can read more about it from [here](https://scikit-learn.org/stable/modules/grid_search.html)\n",
    "and [here](https://medium.com/all-things-ai/in-depth-parameter-tuning-for-random-forest-d67bb7e920d) for an overview of what the main parameters are, and how you could tune them.  <br/>\n",
    "\n",
    "**The process may take a while or doesn't work on your machine if doesn't have enough disk space. You are welcome to use [Google Colab online](https://colab.research.google.com/).**"
   ]
  },
  {
   "cell_type": "code",
   "execution_count": 72,
   "metadata": {},
   "outputs": [],
   "source": [
    "from sklearn.model_selection import GridSearchCV# Create the parameter grid based on the results of random search \n",
    "param_grid = {\n",
    "    'max_depth': [10, 40],\n",
    "    'n_estimators': [100]#, 200, 300]# restricted the grid search to reduce compute time \n",
    "}\n",
    "# Create a based model\n",
    "model = RandomForestClassifier()# Instantiate the grid search model\n",
    "grid_search = GridSearchCV(estimator = model, param_grid = param_grid, \n",
    "                          cv = 3 # number of folds for cross validation\n",
    "                           , n_jobs = -1 # use all processors\n",
    "                            , verbose = 2 # what to display\n",
    "                          )"
   ]
  },
  {
   "cell_type": "code",
   "execution_count": 73,
   "metadata": {},
   "outputs": [
    {
     "name": "stdout",
     "output_type": "stream",
     "text": [
      "Fitting 3 folds for each of 2 candidates, totalling 6 fits\n"
     ]
    },
    {
     "data": {
      "text/html": [
       "<style>#sk-container-id-1 {color: black;}#sk-container-id-1 pre{padding: 0;}#sk-container-id-1 div.sk-toggleable {background-color: white;}#sk-container-id-1 label.sk-toggleable__label {cursor: pointer;display: block;width: 100%;margin-bottom: 0;padding: 0.3em;box-sizing: border-box;text-align: center;}#sk-container-id-1 label.sk-toggleable__label-arrow:before {content: \"▸\";float: left;margin-right: 0.25em;color: #696969;}#sk-container-id-1 label.sk-toggleable__label-arrow:hover:before {color: black;}#sk-container-id-1 div.sk-estimator:hover label.sk-toggleable__label-arrow:before {color: black;}#sk-container-id-1 div.sk-toggleable__content {max-height: 0;max-width: 0;overflow: hidden;text-align: left;background-color: #f0f8ff;}#sk-container-id-1 div.sk-toggleable__content pre {margin: 0.2em;color: black;border-radius: 0.25em;background-color: #f0f8ff;}#sk-container-id-1 input.sk-toggleable__control:checked~div.sk-toggleable__content {max-height: 200px;max-width: 100%;overflow: auto;}#sk-container-id-1 input.sk-toggleable__control:checked~label.sk-toggleable__label-arrow:before {content: \"▾\";}#sk-container-id-1 div.sk-estimator input.sk-toggleable__control:checked~label.sk-toggleable__label {background-color: #d4ebff;}#sk-container-id-1 div.sk-label input.sk-toggleable__control:checked~label.sk-toggleable__label {background-color: #d4ebff;}#sk-container-id-1 input.sk-hidden--visually {border: 0;clip: rect(1px 1px 1px 1px);clip: rect(1px, 1px, 1px, 1px);height: 1px;margin: -1px;overflow: hidden;padding: 0;position: absolute;width: 1px;}#sk-container-id-1 div.sk-estimator {font-family: monospace;background-color: #f0f8ff;border: 1px dotted black;border-radius: 0.25em;box-sizing: border-box;margin-bottom: 0.5em;}#sk-container-id-1 div.sk-estimator:hover {background-color: #d4ebff;}#sk-container-id-1 div.sk-parallel-item::after {content: \"\";width: 100%;border-bottom: 1px solid gray;flex-grow: 1;}#sk-container-id-1 div.sk-label:hover label.sk-toggleable__label {background-color: #d4ebff;}#sk-container-id-1 div.sk-serial::before {content: \"\";position: absolute;border-left: 1px solid gray;box-sizing: border-box;top: 0;bottom: 0;left: 50%;z-index: 0;}#sk-container-id-1 div.sk-serial {display: flex;flex-direction: column;align-items: center;background-color: white;padding-right: 0.2em;padding-left: 0.2em;position: relative;}#sk-container-id-1 div.sk-item {position: relative;z-index: 1;}#sk-container-id-1 div.sk-parallel {display: flex;align-items: stretch;justify-content: center;background-color: white;position: relative;}#sk-container-id-1 div.sk-item::before, #sk-container-id-1 div.sk-parallel-item::before {content: \"\";position: absolute;border-left: 1px solid gray;box-sizing: border-box;top: 0;bottom: 0;left: 50%;z-index: -1;}#sk-container-id-1 div.sk-parallel-item {display: flex;flex-direction: column;z-index: 1;position: relative;background-color: white;}#sk-container-id-1 div.sk-parallel-item:first-child::after {align-self: flex-end;width: 50%;}#sk-container-id-1 div.sk-parallel-item:last-child::after {align-self: flex-start;width: 50%;}#sk-container-id-1 div.sk-parallel-item:only-child::after {width: 0;}#sk-container-id-1 div.sk-dashed-wrapped {border: 1px dashed gray;margin: 0 0.4em 0.5em 0.4em;box-sizing: border-box;padding-bottom: 0.4em;background-color: white;}#sk-container-id-1 div.sk-label label {font-family: monospace;font-weight: bold;display: inline-block;line-height: 1.2em;}#sk-container-id-1 div.sk-label-container {text-align: center;}#sk-container-id-1 div.sk-container {/* jupyter's `normalize.less` sets `[hidden] { display: none; }` but bootstrap.min.css set `[hidden] { display: none !important; }` so we also need the `!important` here to be able to override the default hidden behavior on the sphinx rendered scikit-learn.org. See: https://github.com/scikit-learn/scikit-learn/issues/21755 */display: inline-block !important;position: relative;}#sk-container-id-1 div.sk-text-repr-fallback {display: none;}</style><div id=\"sk-container-id-1\" class=\"sk-top-container\"><div class=\"sk-text-repr-fallback\"><pre>GridSearchCV(cv=3, estimator=RandomForestClassifier(), n_jobs=-1,\n",
       "             param_grid={&#x27;max_depth&#x27;: [10, 40], &#x27;n_estimators&#x27;: [100]},\n",
       "             verbose=2)</pre><b>In a Jupyter environment, please rerun this cell to show the HTML representation or trust the notebook. <br />On GitHub, the HTML representation is unable to render, please try loading this page with nbviewer.org.</b></div><div class=\"sk-container\" hidden><div class=\"sk-item sk-dashed-wrapped\"><div class=\"sk-label-container\"><div class=\"sk-label sk-toggleable\"><input class=\"sk-toggleable__control sk-hidden--visually\" id=\"sk-estimator-id-1\" type=\"checkbox\" ><label for=\"sk-estimator-id-1\" class=\"sk-toggleable__label sk-toggleable__label-arrow\">GridSearchCV</label><div class=\"sk-toggleable__content\"><pre>GridSearchCV(cv=3, estimator=RandomForestClassifier(), n_jobs=-1,\n",
       "             param_grid={&#x27;max_depth&#x27;: [10, 40], &#x27;n_estimators&#x27;: [100]},\n",
       "             verbose=2)</pre></div></div></div><div class=\"sk-parallel\"><div class=\"sk-parallel-item\"><div class=\"sk-item\"><div class=\"sk-label-container\"><div class=\"sk-label sk-toggleable\"><input class=\"sk-toggleable__control sk-hidden--visually\" id=\"sk-estimator-id-2\" type=\"checkbox\" ><label for=\"sk-estimator-id-2\" class=\"sk-toggleable__label sk-toggleable__label-arrow\">estimator: RandomForestClassifier</label><div class=\"sk-toggleable__content\"><pre>RandomForestClassifier()</pre></div></div></div><div class=\"sk-serial\"><div class=\"sk-item\"><div class=\"sk-estimator sk-toggleable\"><input class=\"sk-toggleable__control sk-hidden--visually\" id=\"sk-estimator-id-3\" type=\"checkbox\" ><label for=\"sk-estimator-id-3\" class=\"sk-toggleable__label sk-toggleable__label-arrow\">RandomForestClassifier</label><div class=\"sk-toggleable__content\"><pre>RandomForestClassifier()</pre></div></div></div></div></div></div></div></div></div></div>"
      ],
      "text/plain": [
       "GridSearchCV(cv=3, estimator=RandomForestClassifier(), n_jobs=-1,\n",
       "             param_grid={'max_depth': [10, 40], 'n_estimators': [100]},\n",
       "             verbose=2)"
      ]
     },
     "execution_count": 73,
     "metadata": {},
     "output_type": "execute_result"
    }
   ],
   "source": [
    "grid_search.fit(X_train, y_train)"
   ]
  },
  {
   "cell_type": "markdown",
   "metadata": {},
   "source": [
    "Please note, `GridSearchCV` is applied only on the training set here when you create three folds. Remember you can also just simply split the training set into a training and validation set."
   ]
  },
  {
   "cell_type": "code",
   "execution_count": 81,
   "metadata": {},
   "outputs": [
    {
     "name": "stdout",
     "output_type": "stream",
     "text": [
      "the out of sample test accuracy for a RandomForestClassifier is : 0.824\n"
     ]
    }
   ],
   "source": [
    "model = grid_search.best_estimator_\n",
    "y_pred=model.predict(X_test)\n",
    "print ('the out of sample test accuracy for a RandomForestClassifier is : '+ str(round(accuracy_score(y_test, y_pred),3)))"
   ]
  },
  {
   "cell_type": "markdown",
   "metadata": {},
   "source": [
    "#### 🤨 TASK\n",
    "Try grid searching for more hyper-parameters. "
   ]
  },
  {
   "cell_type": "code",
   "execution_count": null,
   "metadata": {},
   "outputs": [],
   "source": [
    "???"
   ]
  },
  {
   "cell_type": "markdown",
   "metadata": {},
   "source": [
    "The classification accuracy will likely have improved and even if it hasn't improved, we can say that the results are robust to different settings of hyper-parameters. \n",
    "You might have also noticed, due to this process of hyper-parameter tuning, it takes a lot longer to process."
   ]
  },
  {
   "cell_type": "markdown",
   "metadata": {},
   "source": [
    "### Feature Importance\n",
    "\n",
    "Due to the black-box nature of most machine learning algorithms, there are no easy way to interpret similar coefficients. However, there are **interpretable ML** approaches to measure feature importance for methods like `Random Forest (RF)`. A **model-agnostic** way to interpret a machine learning model such as `RF` is [permutation importance](https://scikit-learn.org/stable/modules/permutation_importance.html#permutation-importance).\n",
    "\n",
    "**The process may take a while or doesn't work on your machine if it doesn't have enough disk space. You are welcome to use [Google Colab online](https://colab.research.google.com/).**"
   ]
  },
  {
   "cell_type": "code",
   "execution_count": null,
   "metadata": {},
   "outputs": [],
   "source": [
    "from sklearn.inspection import permutation_importance\n",
    "# if it doesn't work,you meight need to change n_jobs\n",
    "result = permutation_importance(\n",
    "    model, X_test, y_test, n_repeats=10, random_state=42, n_jobs=2\n",
    ")\n",
    "coef = pd.DataFrame(result.importances_mean,index=X.columns,columns=['importance'])\n",
    "coef = coef.reset_index()\n",
    "coef.columns=['features','importance']\n",
    "coef['importance']=np.abs(coef['importance'])\n",
    "coef=coef.sort_values(by='importance',ascending=False)\n",
    "plt.figure(figsize=(6,6))\n",
    "\n",
    "sns.barplot(x='importance',y='features',data=coef,)\n",
    "plt.show()"
   ]
  },
  {
   "cell_type": "markdown",
   "metadata": {},
   "source": [
    "Lab Exercise 7.1 XGBoost \n",
    "-------------------------------\n",
    "\n",
    "For this week's exercise, we will have the student explore a popular **gradient boosting** [1] algorithm implementation called **XGBoost** (Extreme Gradient Boosting), which is a type of ensemble gradient boosting algorithm where weak learners (simple models) are built sequentially to correct the errors made by the preceding models. In simple terms, gradient boosting focuses on reducing the residual errors iteratively. `sklearn` has an implementation of the algorithm called `gradientboosting` but the `xgboost` version is much quicker. \n",
    "\n",
    "You can find the reference for the algorithm with this link [2] and the python library here [3]. The library can be easily installed with pip or conda. \n",
    "\n",
    "`!pip install xgboost`\n",
    "\n",
    "[1] Friedman, J.(2001). Greedy Function Approximation: A Gradient Boosting Machine, The Annals of Statistics, 29(5)\n",
    "\n",
    "[2] Chen, T., & Guestrin, C. (2016). Xgboost: A scalable tree boosting system. In Proceedings of the 22nd acm sigkdd international conference on knowledge discovery and data mining (pp. 785-794).\n",
    "\n",
    "[3] xgboost. https://xgboost.readthedocs.io/en/stable/#\n",
    "\n"
   ]
  },
  {
   "cell_type": "markdown",
   "metadata": {},
   "source": [
    "For this exercise, please run a similar **predictions** using the `XGBoost` library. Remember this is a multi-class classification problem and not a regression problem so please use the appropriate method. Remember to tune the hyper-parameters of the classifier. For `xgboost` an important parameter to tune is `eta/learning rate` which shrinks the contribution of each tree to help prevent overfitting and improve generalization. \n",
    "[link](https://xgboost.readthedocs.io/en/stable/parameter.html). "
   ]
  },
  {
   "cell_type": "markdown",
   "metadata": {},
   "source": [
    "#### 🤨 TASK\n",
    "\n",
    "It might be a good time now to read the following article and try to replicate some of the experiments of the paper.\n",
    "\n",
    "[1] Hagenauera,J.& Helbich,M. (2017) Comparative study of machine learning classifiers for modelling travel mode choice. Expert Systems with Applications (78)\n"
   ]
  },
  {
   "cell_type": "code",
   "execution_count": 106,
   "metadata": {},
   "outputs": [],
   "source": [
    "# import xgboost\n",
    "import xgboost as xgb\n",
    "\n",
    "# prepare the data for XGBoost using the DMatrix class, which optimises memory usage and computation\n",
    "dtrain = xgb.DMatrix(X_train, label = y_train)\n",
    "dtest = xgb.DMatrix(X_test, label = y_test)"
   ]
  },
  {
   "cell_type": "code",
   "execution_count": 107,
   "metadata": {},
   "outputs": [],
   "source": [
    "# set up parameters for XGBoost model training\n",
    "params = {\n",
    "    'max_depth': 3, # maximum depth of a tree to control model complexity and prevent overfitting\n",
    "    'eta': 0.1, # learning rate (step size); try adjusting this value for better convergence\n",
    "    'objective': 'multi:softmax', #specifies the loss function for multi-class classsification\n",
    "    'num_class': 4, # number of unique classes in the target variable\n",
    "}\n",
    "\n",
    "num_boost_round = 20 # number of boosting rounds (iterations); higher values can improve model performance but may increase training time"
   ]
  },
  {
   "cell_type": "code",
   "execution_count": 108,
   "metadata": {},
   "outputs": [],
   "source": [
    "# train the model using the training data and defined parameters\n",
    "bst = xgb.train(params, dtrain, num_boost_round)"
   ]
  },
  {
   "cell_type": "code",
   "execution_count": 109,
   "metadata": {},
   "outputs": [],
   "source": [
    "# make predictions on the test est using the trained model\n",
    "preds = bst.predict(dtest)"
   ]
  },
  {
   "cell_type": "code",
   "execution_count": 111,
   "metadata": {},
   "outputs": [
    {
     "name": "stdout",
     "output_type": "stream",
     "text": [
      "Accuracy: 67.69%\n"
     ]
    }
   ],
   "source": [
    "# evaluate the model's accuracy using the actual labels and prediction\n",
    "accuracy = accuracy_score(y_test, preds)\n",
    "print(\"Accuracy: {:.2%}\".format(accuracy)) # print accuracy as a percentage with 2 decimal places "
   ]
  }
 ],
 "metadata": {
  "kernelspec": {
   "display_name": "Python 3 (ipykernel)",
   "language": "python",
   "name": "python3"
  },
  "language_info": {
   "codemirror_mode": {
    "name": "ipython",
    "version": 3
   },
   "file_extension": ".py",
   "mimetype": "text/x-python",
   "name": "python",
   "nbconvert_exporter": "python",
   "pygments_lexer": "ipython3",
   "version": "3.11.5"
  }
 },
 "nbformat": 4,
 "nbformat_minor": 4
}
